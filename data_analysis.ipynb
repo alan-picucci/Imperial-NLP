{
  "cells": [
    {
      "cell_type": "markdown",
      "metadata": {
        "id": "5hnrP23pjKEi"
      },
      "source": [
        "# NLP Coursework\n"
      ]
    },
    {
      "cell_type": "markdown",
      "metadata": {
        "id": "ied4gM888Xd6"
      },
      "source": [
        "## 0. Set-up"
      ]
    },
    {
      "cell_type": "markdown",
      "metadata": {
        "id": "XvyzAOSb8Xd7"
      },
      "source": [
        "### Main imports"
      ]
    },
    {
      "cell_type": "code",
      "execution_count": 1,
      "metadata": {
        "colab": {
          "base_uri": "https://localhost:8080/"
        },
        "id": "YXuFfRts8Xd7",
        "outputId": "b39df4cd-5feb-49b3-cc45-669b64ad61f9"
      },
      "outputs": [
        {
          "name": "stdout",
          "output_type": "stream",
          "text": [
            "Collecting simpletransformers\n",
            "  Downloading simpletransformers-0.70.0-py3-none-any.whl (315 kB)\n",
            "\u001b[?25l     \u001b[90m━━━━━━━━━━━━━━━━━━━━━━━━━━━━━━━━━━━━━━━━\u001b[0m \u001b[32m0.0/315.5 kB\u001b[0m \u001b[31m?\u001b[0m eta \u001b[36m-:--:--\u001b[0m\r\u001b[2K     \u001b[91m━━━━━━━━━━━━━━━━━━━━━━━━━━━━━━━━━━━\u001b[0m\u001b[90m╺\u001b[0m\u001b[90m━━━━\u001b[0m \u001b[32m276.5/315.5 kB\u001b[0m \u001b[31m7.9 MB/s\u001b[0m eta \u001b[36m0:00:01\u001b[0m\r\u001b[2K     \u001b[90m━━━━━━━━━━━━━━━━━━━━━━━━━━━━━━━━━━━━━━━━\u001b[0m \u001b[32m315.5/315.5 kB\u001b[0m \u001b[31m6.6 MB/s\u001b[0m eta \u001b[36m0:00:00\u001b[0m\n",
            "\u001b[?25hRequirement already satisfied: numpy in /usr/local/lib/python3.10/dist-packages (from simpletransformers) (1.25.2)\n",
            "Requirement already satisfied: requests in /usr/local/lib/python3.10/dist-packages (from simpletransformers) (2.31.0)\n",
            "Requirement already satisfied: tqdm>=4.47.0 in /usr/local/lib/python3.10/dist-packages (from simpletransformers) (4.66.2)\n",
            "Requirement already satisfied: regex in /usr/local/lib/python3.10/dist-packages (from simpletransformers) (2023.12.25)\n",
            "Requirement already satisfied: transformers>=4.31.0 in /usr/local/lib/python3.10/dist-packages (from simpletransformers) (4.37.2)\n",
            "Collecting datasets (from simpletransformers)\n",
            "  Downloading datasets-2.17.1-py3-none-any.whl (536 kB)\n",
            "\u001b[?25l     \u001b[90m━━━━━━━━━━━━━━━━━━━━━━━━━━━━━━━━━━━━━━━━\u001b[0m \u001b[32m0.0/536.7 kB\u001b[0m \u001b[31m?\u001b[0m eta \u001b[36m-:--:--\u001b[0m\r\u001b[2K     \u001b[90m━━━━━━━━━━━━━━━━━━━━━━━━━━━━━━━━━━━━━━━━\u001b[0m \u001b[32m536.7/536.7 kB\u001b[0m \u001b[31m43.6 MB/s\u001b[0m eta \u001b[36m0:00:00\u001b[0m\n",
            "\u001b[?25hRequirement already satisfied: scipy in /usr/local/lib/python3.10/dist-packages (from simpletransformers) (1.11.4)\n",
            "Requirement already satisfied: scikit-learn in /usr/local/lib/python3.10/dist-packages (from simpletransformers) (1.2.2)\n",
            "Collecting seqeval (from simpletransformers)\n",
            "  Downloading seqeval-1.2.2.tar.gz (43 kB)\n",
            "\u001b[2K     \u001b[90m━━━━━━━━━━━━━━━━━━━━━━━━━━━━━━━━━━━━━━━━\u001b[0m \u001b[32m43.6/43.6 kB\u001b[0m \u001b[31m5.9 MB/s\u001b[0m eta \u001b[36m0:00:00\u001b[0m\n",
            "\u001b[?25h  Preparing metadata (setup.py) ... \u001b[?25l\u001b[?25hdone\n",
            "Requirement already satisfied: tensorboard in /usr/local/lib/python3.10/dist-packages (from simpletransformers) (2.15.2)\n",
            "Collecting tensorboardx (from simpletransformers)\n",
            "  Downloading tensorboardX-2.6.2.2-py2.py3-none-any.whl (101 kB)\n",
            "\u001b[2K     \u001b[90m━━━━━━━━━━━━━━━━━━━━━━━━━━━━━━━━━━━━━━━━\u001b[0m \u001b[32m101.7/101.7 kB\u001b[0m \u001b[31m13.6 MB/s\u001b[0m eta \u001b[36m0:00:00\u001b[0m\n",
            "\u001b[?25hRequirement already satisfied: pandas in /usr/local/lib/python3.10/dist-packages (from simpletransformers) (1.5.3)\n",
            "Requirement already satisfied: tokenizers in /usr/local/lib/python3.10/dist-packages (from simpletransformers) (0.15.2)\n",
            "Collecting wandb>=0.10.32 (from simpletransformers)\n",
            "  Downloading wandb-0.16.3-py3-none-any.whl (2.2 MB)\n",
            "\u001b[2K     \u001b[90m━━━━━━━━━━━━━━━━━━━━━━━━━━━━━━━━━━━━━━━━\u001b[0m \u001b[32m2.2/2.2 MB\u001b[0m \u001b[31m26.5 MB/s\u001b[0m eta \u001b[36m0:00:00\u001b[0m\n",
            "\u001b[?25hCollecting streamlit (from simpletransformers)\n",
            "  Downloading streamlit-1.31.1-py2.py3-none-any.whl (8.4 MB)\n",
            "\u001b[2K     \u001b[90m━━━━━━━━━━━━━━━━━━━━━━━━━━━━━━━━━━━━━━━━\u001b[0m \u001b[32m8.4/8.4 MB\u001b[0m \u001b[31m50.9 MB/s\u001b[0m eta \u001b[36m0:00:00\u001b[0m\n",
            "\u001b[?25hRequirement already satisfied: sentencepiece in /usr/local/lib/python3.10/dist-packages (from simpletransformers) (0.1.99)\n",
            "Requirement already satisfied: filelock in /usr/local/lib/python3.10/dist-packages (from transformers>=4.31.0->simpletransformers) (3.13.1)\n",
            "Requirement already satisfied: huggingface-hub<1.0,>=0.19.3 in /usr/local/lib/python3.10/dist-packages (from transformers>=4.31.0->simpletransformers) (0.20.3)\n",
            "Requirement already satisfied: packaging>=20.0 in /usr/local/lib/python3.10/dist-packages (from transformers>=4.31.0->simpletransformers) (23.2)\n",
            "Requirement already satisfied: pyyaml>=5.1 in /usr/local/lib/python3.10/dist-packages (from transformers>=4.31.0->simpletransformers) (6.0.1)\n",
            "Requirement already satisfied: safetensors>=0.4.1 in /usr/local/lib/python3.10/dist-packages (from transformers>=4.31.0->simpletransformers) (0.4.2)\n",
            "Requirement already satisfied: Click!=8.0.0,>=7.1 in /usr/local/lib/python3.10/dist-packages (from wandb>=0.10.32->simpletransformers) (8.1.7)\n",
            "Collecting GitPython!=3.1.29,>=1.0.0 (from wandb>=0.10.32->simpletransformers)\n",
            "  Downloading GitPython-3.1.42-py3-none-any.whl (195 kB)\n",
            "\u001b[2K     \u001b[90m━━━━━━━━━━━━━━━━━━━━━━━━━━━━━━━━━━━━━━━━\u001b[0m \u001b[32m195.4/195.4 kB\u001b[0m \u001b[31m22.5 MB/s\u001b[0m eta \u001b[36m0:00:00\u001b[0m\n",
            "\u001b[?25hRequirement already satisfied: psutil>=5.0.0 in /usr/local/lib/python3.10/dist-packages (from wandb>=0.10.32->simpletransformers) (5.9.5)\n",
            "Collecting sentry-sdk>=1.0.0 (from wandb>=0.10.32->simpletransformers)\n",
            "  Downloading sentry_sdk-1.40.6-py2.py3-none-any.whl (258 kB)\n",
            "\u001b[2K     \u001b[90m━━━━━━━━━━━━━━━━━━━━━━━━━━━━━━━━━━━━━━━━\u001b[0m \u001b[32m258.5/258.5 kB\u001b[0m \u001b[31m21.5 MB/s\u001b[0m eta \u001b[36m0:00:00\u001b[0m\n",
            "\u001b[?25hCollecting docker-pycreds>=0.4.0 (from wandb>=0.10.32->simpletransformers)\n",
            "  Downloading docker_pycreds-0.4.0-py2.py3-none-any.whl (9.0 kB)\n",
            "Collecting setproctitle (from wandb>=0.10.32->simpletransformers)\n",
            "  Downloading setproctitle-1.3.3-cp310-cp310-manylinux_2_5_x86_64.manylinux1_x86_64.manylinux_2_17_x86_64.manylinux2014_x86_64.whl (30 kB)\n",
            "Requirement already satisfied: setuptools in /usr/local/lib/python3.10/dist-packages (from wandb>=0.10.32->simpletransformers) (67.7.2)\n",
            "Requirement already satisfied: appdirs>=1.4.3 in /usr/local/lib/python3.10/dist-packages (from wandb>=0.10.32->simpletransformers) (1.4.4)\n",
            "Requirement already satisfied: protobuf!=4.21.0,<5,>=3.19.0 in /usr/local/lib/python3.10/dist-packages (from wandb>=0.10.32->simpletransformers) (3.20.3)\n",
            "Requirement already satisfied: charset-normalizer<4,>=2 in /usr/local/lib/python3.10/dist-packages (from requests->simpletransformers) (3.3.2)\n",
            "Requirement already satisfied: idna<4,>=2.5 in /usr/local/lib/python3.10/dist-packages (from requests->simpletransformers) (3.6)\n",
            "Requirement already satisfied: urllib3<3,>=1.21.1 in /usr/local/lib/python3.10/dist-packages (from requests->simpletransformers) (2.0.7)\n",
            "Requirement already satisfied: certifi>=2017.4.17 in /usr/local/lib/python3.10/dist-packages (from requests->simpletransformers) (2024.2.2)\n",
            "Requirement already satisfied: pyarrow>=12.0.0 in /usr/local/lib/python3.10/dist-packages (from datasets->simpletransformers) (14.0.2)\n",
            "Requirement already satisfied: pyarrow-hotfix in /usr/local/lib/python3.10/dist-packages (from datasets->simpletransformers) (0.6)\n",
            "Collecting dill<0.3.9,>=0.3.0 (from datasets->simpletransformers)\n",
            "  Downloading dill-0.3.8-py3-none-any.whl (116 kB)\n",
            "\u001b[2K     \u001b[90m━━━━━━━━━━━━━━━━━━━━━━━━━━━━━━━━━━━━━━━━\u001b[0m \u001b[32m116.3/116.3 kB\u001b[0m \u001b[31m9.4 MB/s\u001b[0m eta \u001b[36m0:00:00\u001b[0m\n",
            "\u001b[?25hRequirement already satisfied: xxhash in /usr/local/lib/python3.10/dist-packages (from datasets->simpletransformers) (3.4.1)\n",
            "Collecting multiprocess (from datasets->simpletransformers)\n",
            "  Downloading multiprocess-0.70.16-py310-none-any.whl (134 kB)\n",
            "\u001b[2K     \u001b[90m━━━━━━━━━━━━━━━━━━━━━━━━━━━━━━━━━━━━━━━━\u001b[0m \u001b[32m134.8/134.8 kB\u001b[0m \u001b[31m10.9 MB/s\u001b[0m eta \u001b[36m0:00:00\u001b[0m\n",
            "\u001b[?25hRequirement already satisfied: fsspec[http]<=2023.10.0,>=2023.1.0 in /usr/local/lib/python3.10/dist-packages (from datasets->simpletransformers) (2023.6.0)\n",
            "Requirement already satisfied: aiohttp in /usr/local/lib/python3.10/dist-packages (from datasets->simpletransformers) (3.9.3)\n",
            "Requirement already satisfied: python-dateutil>=2.8.1 in /usr/local/lib/python3.10/dist-packages (from pandas->simpletransformers) (2.8.2)\n",
            "Requirement already satisfied: pytz>=2020.1 in /usr/local/lib/python3.10/dist-packages (from pandas->simpletransformers) (2023.4)\n",
            "Requirement already satisfied: joblib>=1.1.1 in /usr/local/lib/python3.10/dist-packages (from scikit-learn->simpletransformers) (1.3.2)\n",
            "Requirement already satisfied: threadpoolctl>=2.0.0 in /usr/local/lib/python3.10/dist-packages (from scikit-learn->simpletransformers) (3.3.0)\n",
            "Requirement already satisfied: altair<6,>=4.0 in /usr/local/lib/python3.10/dist-packages (from streamlit->simpletransformers) (4.2.2)\n",
            "Requirement already satisfied: blinker<2,>=1.0.0 in /usr/lib/python3/dist-packages (from streamlit->simpletransformers) (1.4)\n",
            "Requirement already satisfied: cachetools<6,>=4.0 in /usr/local/lib/python3.10/dist-packages (from streamlit->simpletransformers) (5.3.2)\n",
            "Requirement already satisfied: importlib-metadata<8,>=1.4 in /usr/local/lib/python3.10/dist-packages (from streamlit->simpletransformers) (7.0.1)\n",
            "Requirement already satisfied: pillow<11,>=7.1.0 in /usr/local/lib/python3.10/dist-packages (from streamlit->simpletransformers) (9.4.0)\n",
            "Requirement already satisfied: rich<14,>=10.14.0 in /usr/local/lib/python3.10/dist-packages (from streamlit->simpletransformers) (13.7.0)\n",
            "Requirement already satisfied: tenacity<9,>=8.1.0 in /usr/local/lib/python3.10/dist-packages (from streamlit->simpletransformers) (8.2.3)\n",
            "Requirement already satisfied: toml<2,>=0.10.1 in /usr/local/lib/python3.10/dist-packages (from streamlit->simpletransformers) (0.10.2)\n",
            "Requirement already satisfied: typing-extensions<5,>=4.3.0 in /usr/local/lib/python3.10/dist-packages (from streamlit->simpletransformers) (4.9.0)\n",
            "Requirement already satisfied: tzlocal<6,>=1.1 in /usr/local/lib/python3.10/dist-packages (from streamlit->simpletransformers) (5.2)\n",
            "Collecting validators<1,>=0.2 (from streamlit->simpletransformers)\n",
            "  Downloading validators-0.22.0-py3-none-any.whl (26 kB)\n",
            "Collecting pydeck<1,>=0.8.0b4 (from streamlit->simpletransformers)\n",
            "  Downloading pydeck-0.8.1b0-py2.py3-none-any.whl (4.8 MB)\n",
            "\u001b[2K     \u001b[90m━━━━━━━━━━━━━━━━━━━━━━━━━━━━━━━━━━━━━━━━\u001b[0m \u001b[32m4.8/4.8 MB\u001b[0m \u001b[31m35.3 MB/s\u001b[0m eta \u001b[36m0:00:00\u001b[0m\n",
            "\u001b[?25hRequirement already satisfied: tornado<7,>=6.0.3 in /usr/local/lib/python3.10/dist-packages (from streamlit->simpletransformers) (6.3.2)\n",
            "Collecting watchdog>=2.1.5 (from streamlit->simpletransformers)\n",
            "  Downloading watchdog-4.0.0-py3-none-manylinux2014_x86_64.whl (82 kB)\n",
            "\u001b[2K     \u001b[90m━━━━━━━━━━━━━━━━━━━━━━━━━━━━━━━━━━━━━━━━\u001b[0m \u001b[32m83.0/83.0 kB\u001b[0m \u001b[31m7.3 MB/s\u001b[0m eta \u001b[36m0:00:00\u001b[0m\n",
            "\u001b[?25hRequirement already satisfied: absl-py>=0.4 in /usr/local/lib/python3.10/dist-packages (from tensorboard->simpletransformers) (1.4.0)\n",
            "Requirement already satisfied: grpcio>=1.48.2 in /usr/local/lib/python3.10/dist-packages (from tensorboard->simpletransformers) (1.60.1)\n",
            "Requirement already satisfied: google-auth<3,>=1.6.3 in /usr/local/lib/python3.10/dist-packages (from tensorboard->simpletransformers) (2.27.0)\n",
            "Requirement already satisfied: google-auth-oauthlib<2,>=0.5 in /usr/local/lib/python3.10/dist-packages (from tensorboard->simpletransformers) (1.2.0)\n",
            "Requirement already satisfied: markdown>=2.6.8 in /usr/local/lib/python3.10/dist-packages (from tensorboard->simpletransformers) (3.5.2)\n",
            "Requirement already satisfied: six>1.9 in /usr/local/lib/python3.10/dist-packages (from tensorboard->simpletransformers) (1.16.0)\n",
            "Requirement already satisfied: tensorboard-data-server<0.8.0,>=0.7.0 in /usr/local/lib/python3.10/dist-packages (from tensorboard->simpletransformers) (0.7.2)\n",
            "Requirement already satisfied: werkzeug>=1.0.1 in /usr/local/lib/python3.10/dist-packages (from tensorboard->simpletransformers) (3.0.1)\n",
            "Requirement already satisfied: entrypoints in /usr/local/lib/python3.10/dist-packages (from altair<6,>=4.0->streamlit->simpletransformers) (0.4)\n",
            "Requirement already satisfied: jinja2 in /usr/local/lib/python3.10/dist-packages (from altair<6,>=4.0->streamlit->simpletransformers) (3.1.3)\n",
            "Requirement already satisfied: jsonschema>=3.0 in /usr/local/lib/python3.10/dist-packages (from altair<6,>=4.0->streamlit->simpletransformers) (4.19.2)\n",
            "Requirement already satisfied: toolz in /usr/local/lib/python3.10/dist-packages (from altair<6,>=4.0->streamlit->simpletransformers) (0.12.1)\n",
            "Requirement already satisfied: aiosignal>=1.1.2 in /usr/local/lib/python3.10/dist-packages (from aiohttp->datasets->simpletransformers) (1.3.1)\n",
            "Requirement already satisfied: attrs>=17.3.0 in /usr/local/lib/python3.10/dist-packages (from aiohttp->datasets->simpletransformers) (23.2.0)\n",
            "Requirement already satisfied: frozenlist>=1.1.1 in /usr/local/lib/python3.10/dist-packages (from aiohttp->datasets->simpletransformers) (1.4.1)\n",
            "Requirement already satisfied: multidict<7.0,>=4.5 in /usr/local/lib/python3.10/dist-packages (from aiohttp->datasets->simpletransformers) (6.0.5)\n",
            "Requirement already satisfied: yarl<2.0,>=1.0 in /usr/local/lib/python3.10/dist-packages (from aiohttp->datasets->simpletransformers) (1.9.4)\n",
            "Requirement already satisfied: async-timeout<5.0,>=4.0 in /usr/local/lib/python3.10/dist-packages (from aiohttp->datasets->simpletransformers) (4.0.3)\n",
            "Collecting gitdb<5,>=4.0.1 (from GitPython!=3.1.29,>=1.0.0->wandb>=0.10.32->simpletransformers)\n",
            "  Downloading gitdb-4.0.11-py3-none-any.whl (62 kB)\n",
            "\u001b[2K     \u001b[90m━━━━━━━━━━━━━━━━━━━━━━━━━━━━━━━━━━━━━━━━\u001b[0m \u001b[32m62.7/62.7 kB\u001b[0m \u001b[31m7.4 MB/s\u001b[0m eta \u001b[36m0:00:00\u001b[0m\n",
            "\u001b[?25hRequirement already satisfied: pyasn1-modules>=0.2.1 in /usr/local/lib/python3.10/dist-packages (from google-auth<3,>=1.6.3->tensorboard->simpletransformers) (0.3.0)\n",
            "Requirement already satisfied: rsa<5,>=3.1.4 in /usr/local/lib/python3.10/dist-packages (from google-auth<3,>=1.6.3->tensorboard->simpletransformers) (4.9)\n",
            "Requirement already satisfied: requests-oauthlib>=0.7.0 in /usr/local/lib/python3.10/dist-packages (from google-auth-oauthlib<2,>=0.5->tensorboard->simpletransformers) (1.3.1)\n",
            "Requirement already satisfied: zipp>=0.5 in /usr/local/lib/python3.10/dist-packages (from importlib-metadata<8,>=1.4->streamlit->simpletransformers) (3.17.0)\n",
            "Requirement already satisfied: markdown-it-py>=2.2.0 in /usr/local/lib/python3.10/dist-packages (from rich<14,>=10.14.0->streamlit->simpletransformers) (3.0.0)\n",
            "Requirement already satisfied: pygments<3.0.0,>=2.13.0 in /usr/local/lib/python3.10/dist-packages (from rich<14,>=10.14.0->streamlit->simpletransformers) (2.16.1)\n",
            "Requirement already satisfied: MarkupSafe>=2.1.1 in /usr/local/lib/python3.10/dist-packages (from werkzeug>=1.0.1->tensorboard->simpletransformers) (2.1.5)\n",
            "Collecting smmap<6,>=3.0.1 (from gitdb<5,>=4.0.1->GitPython!=3.1.29,>=1.0.0->wandb>=0.10.32->simpletransformers)\n",
            "  Downloading smmap-5.0.1-py3-none-any.whl (24 kB)\n",
            "Requirement already satisfied: jsonschema-specifications>=2023.03.6 in /usr/local/lib/python3.10/dist-packages (from jsonschema>=3.0->altair<6,>=4.0->streamlit->simpletransformers) (2023.12.1)\n",
            "Requirement already satisfied: referencing>=0.28.4 in /usr/local/lib/python3.10/dist-packages (from jsonschema>=3.0->altair<6,>=4.0->streamlit->simpletransformers) (0.33.0)\n",
            "Requirement already satisfied: rpds-py>=0.7.1 in /usr/local/lib/python3.10/dist-packages (from jsonschema>=3.0->altair<6,>=4.0->streamlit->simpletransformers) (0.18.0)\n",
            "Requirement already satisfied: mdurl~=0.1 in /usr/local/lib/python3.10/dist-packages (from markdown-it-py>=2.2.0->rich<14,>=10.14.0->streamlit->simpletransformers) (0.1.2)\n",
            "Requirement already satisfied: pyasn1<0.6.0,>=0.4.6 in /usr/local/lib/python3.10/dist-packages (from pyasn1-modules>=0.2.1->google-auth<3,>=1.6.3->tensorboard->simpletransformers) (0.5.1)\n",
            "Requirement already satisfied: oauthlib>=3.0.0 in /usr/local/lib/python3.10/dist-packages (from requests-oauthlib>=0.7.0->google-auth-oauthlib<2,>=0.5->tensorboard->simpletransformers) (3.2.2)\n",
            "Building wheels for collected packages: seqeval\n",
            "  Building wheel for seqeval (setup.py) ... \u001b[?25l\u001b[?25hdone\n",
            "  Created wheel for seqeval: filename=seqeval-1.2.2-py3-none-any.whl size=16162 sha256=e1f20081e31230fee10965383bd0bd303857763f74749d5d59998aec3500f765\n",
            "  Stored in directory: /root/.cache/pip/wheels/1a/67/4a/ad4082dd7dfc30f2abfe4d80a2ed5926a506eb8a972b4767fa\n",
            "Successfully built seqeval\n",
            "Installing collected packages: watchdog, validators, tensorboardx, smmap, setproctitle, sentry-sdk, docker-pycreds, dill, pydeck, multiprocess, gitdb, seqeval, GitPython, wandb, datasets, streamlit, simpletransformers\n",
            "Successfully installed GitPython-3.1.42 datasets-2.17.1 dill-0.3.8 docker-pycreds-0.4.0 gitdb-4.0.11 multiprocess-0.70.16 pydeck-0.8.1b0 sentry-sdk-1.40.6 seqeval-1.2.2 setproctitle-1.3.3 simpletransformers-0.70.0 smmap-5.0.1 streamlit-1.31.1 tensorboardx-2.6.2.2 validators-0.22.0 wandb-0.16.3 watchdog-4.0.0\n",
            "Requirement already satisfied: tensorboardx in /usr/local/lib/python3.10/dist-packages (2.6.2.2)\n",
            "Requirement already satisfied: numpy in /usr/local/lib/python3.10/dist-packages (from tensorboardx) (1.25.2)\n",
            "Requirement already satisfied: packaging in /usr/local/lib/python3.10/dist-packages (from tensorboardx) (23.2)\n",
            "Requirement already satisfied: protobuf>=3.20 in /usr/local/lib/python3.10/dist-packages (from tensorboardx) (3.20.3)\n"
          ]
        }
      ],
      "source": [
        "!pip install simpletransformers\n",
        "!pip install tensorboardx"
      ]
    },
    {
      "cell_type": "code",
      "execution_count": 2,
      "metadata": {
        "id": "gsQZT9Wc8Xd8"
      },
      "outputs": [],
      "source": [
        "from simpletransformers.classification import ClassificationModel, ClassificationArgs, MultiLabelClassificationModel, MultiLabelClassificationArgs\n",
        "from urllib import request\n",
        "import pandas as pd\n",
        "import logging\n",
        "import torch\n",
        "import matplotlib.pyplot as plt\n",
        "import seaborn as sns\n",
        "from collections import Counter\n",
        "from ast import literal_eval\n",
        "import string\n",
        "import nltk\n",
        "from nltk.corpus import stopwords"
      ]
    },
    {
      "cell_type": "code",
      "execution_count": 3,
      "metadata": {
        "colab": {
          "base_uri": "https://localhost:8080/"
        },
        "id": "W1suLC5F8Xd9",
        "outputId": "f889d895-bb3c-4e8c-bc6b-1385f12eef83"
      },
      "outputs": [
        {
          "name": "stdout",
          "output_type": "stream",
          "text": [
            "Cuda available?  False\n"
          ]
        }
      ],
      "source": [
        "# prepare logger\n",
        "logging.basicConfig(level=logging.INFO)\n",
        "\n",
        "transformers_logger = logging.getLogger(\"transformers\")\n",
        "transformers_logger.setLevel(logging.WARNING)\n",
        "\n",
        "# check gpu\n",
        "cuda_available = torch.cuda.is_available()\n",
        "\n",
        "print('Cuda available? ',cuda_available)"
      ]
    },
    {
      "cell_type": "code",
      "execution_count": 4,
      "metadata": {
        "id": "N2RE1ys28Xd9"
      },
      "outputs": [],
      "source": [
        "if cuda_available:\n",
        "  import tensorflow as tf\n",
        "  # Get the GPU device name.\n",
        "  device_name = tf.test.gpu_device_name()\n",
        "  # The device name should look like the following:\n",
        "  if device_name == '/device:GPU:0':\n",
        "      print('Found GPU at: {}'.format(device_name))\n",
        "  else:\n",
        "      raise SystemError('GPU device not found')"
      ]
    },
    {
      "cell_type": "markdown",
      "metadata": {
        "id": "01k-ETkP8Xd-"
      },
      "source": [
        "### Fetching the Don't Patronize Me! data manager module"
      ]
    },
    {
      "cell_type": "code",
      "execution_count": 5,
      "metadata": {
        "colab": {
          "base_uri": "https://localhost:8080/"
        },
        "id": "VD2DcU4R9_a3",
        "outputId": "7892e306-daf2-499c-c95c-7e9c9a66e1e1"
      },
      "outputs": [
        {
          "name": "stdout",
          "output_type": "stream",
          "text": [
            "Mounted at /content/drive\n"
          ]
        }
      ],
      "source": [
        "from google.colab import drive\n",
        "drive.mount('/content/drive')"
      ]
    },
    {
      "cell_type": "code",
      "execution_count": 6,
      "metadata": {
        "colab": {
          "base_uri": "https://localhost:8080/"
        },
        "id": "mpGF5nk3uXnC",
        "outputId": "5f03911f-11a3-4895-a255-2117b4015f6b"
      },
      "outputs": [
        {
          "name": "stdout",
          "output_type": "stream",
          "text": [
            "--2024-02-27 22:33:17--  https://raw.githubusercontent.com/CRLala/NLPLabs-2024/main/Dont_Patronize_Me_Trainingset/dontpatronizeme_categories.tsv\n",
            "Resolving raw.githubusercontent.com (raw.githubusercontent.com)... 185.199.108.133, 185.199.109.133, 185.199.110.133, ...\n",
            "Connecting to raw.githubusercontent.com (raw.githubusercontent.com)|185.199.108.133|:443... connected.\n",
            "HTTP request sent, awaiting response... 200 OK\n",
            "Length: 1342370 (1.3M) [text/plain]\n",
            "Saving to: ‘dontpatronizeme_categories.tsv’\n",
            "\n",
            "dontpatronizeme_cat 100%[===================>]   1.28M  --.-KB/s    in 0.01s   \n",
            "\n",
            "2024-02-27 22:33:17 (90.1 MB/s) - ‘dontpatronizeme_categories.tsv’ saved [1342370/1342370]\n",
            "\n",
            "--2024-02-27 22:33:17--  https://raw.githubusercontent.com/CRLala/NLPLabs-2024/main/Dont_Patronize_Me_Trainingset/dontpatronizeme_pcl.tsv\n",
            "Resolving raw.githubusercontent.com (raw.githubusercontent.com)... 185.199.108.133, 185.199.109.133, 185.199.110.133, ...\n",
            "Connecting to raw.githubusercontent.com (raw.githubusercontent.com)|185.199.108.133|:443... connected.\n",
            "HTTP request sent, awaiting response... 200 OK\n",
            "Length: 3122842 (3.0M) [text/plain]\n",
            "Saving to: ‘dontpatronizeme_pcl.tsv’\n",
            "\n",
            "dontpatronizeme_pcl 100%[===================>]   2.98M  --.-KB/s    in 0.02s   \n",
            "\n",
            "2024-02-27 22:33:17 (192 MB/s) - ‘dontpatronizeme_pcl.tsv’ saved [3122842/3122842]\n",
            "\n"
          ]
        }
      ],
      "source": [
        "!wget https://raw.githubusercontent.com/CRLala/NLPLabs-2024/main/Dont_Patronize_Me_Trainingset/dontpatronizeme_categories.tsv\n",
        "!wget https://raw.githubusercontent.com/CRLala/NLPLabs-2024/main/Dont_Patronize_Me_Trainingset/dontpatronizeme_pcl.tsv"
      ]
    },
    {
      "cell_type": "code",
      "execution_count": 7,
      "metadata": {
        "colab": {
          "base_uri": "https://localhost:8080/"
        },
        "id": "HmiUfbUR8Xd-",
        "outputId": "c5508c69-9004-4d80-fafc-883624146243"
      },
      "outputs": [
        {
          "name": "stdout",
          "output_type": "stream",
          "text": [
            "Fetching https://raw.githubusercontent.com/Perez-AlmendrosC/dontpatronizeme/master/semeval-2022/dont_patronize_me.py\n"
          ]
        }
      ],
      "source": [
        "module_url = f\"https://raw.githubusercontent.com/Perez-AlmendrosC/dontpatronizeme/master/semeval-2022/dont_patronize_me.py\"\n",
        "module_name = module_url.split('/')[-1]\n",
        "print(f'Fetching {module_url}')\n",
        "#with open(\"file_1.txt\") as f1, open(\"file_2.txt\") as f2\n",
        "with request.urlopen(module_url) as f, open(module_name,'w') as outf:\n",
        "  a = f.read()\n",
        "  outf.write(a.decode('utf-8'))"
      ]
    },
    {
      "cell_type": "code",
      "execution_count": 8,
      "metadata": {
        "id": "Fv6OYc5e8Xd-"
      },
      "outputs": [],
      "source": [
        "# helper function to save predictions to an output file\n",
        "def labels2file(p, outf_path):\n",
        "\twith open(outf_path,'w') as outf:\n",
        "\t\tfor pi in p:\n",
        "\t\t\toutf.write(','.join([str(k) for k in pi])+'\\n')"
      ]
    },
    {
      "cell_type": "code",
      "execution_count": 9,
      "metadata": {
        "colab": {
          "base_uri": "https://localhost:8080/",
          "height": 206
        },
        "id": "ZoI6OlS38Xd_",
        "outputId": "0434589c-241f-4ecd-a0a0-c76c0193cd33"
      },
      "outputs": [
        {
          "data": {
            "application/vnd.google.colaboratory.intrinsic+json": {
              "summary": "{\n  \"name\": \"train_df\",\n  \"rows\": 10469,\n  \"fields\": [\n    {\n      \"column\": \"par_id\",\n      \"properties\": {\n        \"dtype\": \"string\",\n        \"num_unique_values\": 10469,\n        \"samples\": [\n          \"7567\",\n          \"7992\",\n          \"2115\"\n        ],\n        \"semantic_type\": \"\",\n        \"description\": \"\"\n      }\n    },\n    {\n      \"column\": \"art_id\",\n      \"properties\": {\n        \"dtype\": \"string\",\n        \"num_unique_values\": 10093,\n        \"samples\": [\n          \"@@15858151\",\n          \"@@25187013\",\n          \"@@896186\"\n        ],\n        \"semantic_type\": \"\",\n        \"description\": \"\"\n      }\n    },\n    {\n      \"column\": \"keyword\",\n      \"properties\": {\n        \"dtype\": \"category\",\n        \"num_unique_values\": 10,\n        \"samples\": [\n          \"women\",\n          \"migrant\",\n          \"in-need\"\n        ],\n        \"semantic_type\": \"\",\n        \"description\": \"\"\n      }\n    },\n    {\n      \"column\": \"country\",\n      \"properties\": {\n        \"dtype\": \"category\",\n        \"num_unique_values\": 20,\n        \"samples\": [\n          \"ph\",\n          \"lk\",\n          \"bd\"\n        ],\n        \"semantic_type\": \"\",\n        \"description\": \"\"\n      }\n    },\n    {\n      \"column\": \"text\",\n      \"properties\": {\n        \"dtype\": \"string\",\n        \"num_unique_values\": 10469,\n        \"samples\": [\n          \"Legislator Fernando Cheung Chiu- hung said yesterday it is not the first time the government has discriminated against intellectually disabled students .\",\n          \"\\\"\\\"\\\" Instead of wasting his time sending useless and insulting tweets regarding other countries , he would be better off seeing to the domestic issues of his own country such as daily killings of dozens of people ... and the existence of millions of homeless and hungry people , \\\"\\\" said ministry spokesman Bahram Ghasemi .\\\"\",\n          \"Old buildings , coastal areas most vulnerable to major earthquake in B.C.\"\n        ],\n        \"semantic_type\": \"\",\n        \"description\": \"\"\n      }\n    },\n    {\n      \"column\": \"label\",\n      \"properties\": {\n        \"dtype\": \"number\",\n        \"std\": 0,\n        \"min\": 0,\n        \"max\": 1,\n        \"num_unique_values\": 2,\n        \"samples\": [\n          1,\n          0\n        ],\n        \"semantic_type\": \"\",\n        \"description\": \"\"\n      }\n    },\n    {\n      \"column\": \"orig_label\",\n      \"properties\": {\n        \"dtype\": \"category\",\n        \"num_unique_values\": 5,\n        \"samples\": [\n          \"1\",\n          \"4\"\n        ],\n        \"semantic_type\": \"\",\n        \"description\": \"\"\n      }\n    }\n  ]\n}",
              "type": "dataframe",
              "variable_name": "train_df"
            },
            "text/html": [
              "\n",
              "  <div id=\"df-95857f05-659f-4c93-be8f-4d5e5f9ec9d7\" class=\"colab-df-container\">\n",
              "    <div>\n",
              "<style scoped>\n",
              "    .dataframe tbody tr th:only-of-type {\n",
              "        vertical-align: middle;\n",
              "    }\n",
              "\n",
              "    .dataframe tbody tr th {\n",
              "        vertical-align: top;\n",
              "    }\n",
              "\n",
              "    .dataframe thead th {\n",
              "        text-align: right;\n",
              "    }\n",
              "</style>\n",
              "<table border=\"1\" class=\"dataframe\">\n",
              "  <thead>\n",
              "    <tr style=\"text-align: right;\">\n",
              "      <th></th>\n",
              "      <th>par_id</th>\n",
              "      <th>art_id</th>\n",
              "      <th>keyword</th>\n",
              "      <th>country</th>\n",
              "      <th>text</th>\n",
              "      <th>label</th>\n",
              "      <th>orig_label</th>\n",
              "    </tr>\n",
              "  </thead>\n",
              "  <tbody>\n",
              "    <tr>\n",
              "      <th>0</th>\n",
              "      <td>1</td>\n",
              "      <td>@@24942188</td>\n",
              "      <td>hopeless</td>\n",
              "      <td>ph</td>\n",
              "      <td>We 're living in times of absolute insanity , ...</td>\n",
              "      <td>0</td>\n",
              "      <td>0</td>\n",
              "    </tr>\n",
              "    <tr>\n",
              "      <th>1</th>\n",
              "      <td>2</td>\n",
              "      <td>@@21968160</td>\n",
              "      <td>migrant</td>\n",
              "      <td>gh</td>\n",
              "      <td>In Libya today , there are countless number of...</td>\n",
              "      <td>0</td>\n",
              "      <td>0</td>\n",
              "    </tr>\n",
              "    <tr>\n",
              "      <th>2</th>\n",
              "      <td>3</td>\n",
              "      <td>@@16584954</td>\n",
              "      <td>immigrant</td>\n",
              "      <td>ie</td>\n",
              "      <td>\"White House press secretary Sean Spicer said ...</td>\n",
              "      <td>0</td>\n",
              "      <td>0</td>\n",
              "    </tr>\n",
              "    <tr>\n",
              "      <th>3</th>\n",
              "      <td>4</td>\n",
              "      <td>@@7811231</td>\n",
              "      <td>disabled</td>\n",
              "      <td>nz</td>\n",
              "      <td>Council customers only signs would be displaye...</td>\n",
              "      <td>0</td>\n",
              "      <td>0</td>\n",
              "    </tr>\n",
              "    <tr>\n",
              "      <th>4</th>\n",
              "      <td>5</td>\n",
              "      <td>@@1494111</td>\n",
              "      <td>refugee</td>\n",
              "      <td>ca</td>\n",
              "      <td>\"\"\" Just like we received migrants fleeing El ...</td>\n",
              "      <td>0</td>\n",
              "      <td>0</td>\n",
              "    </tr>\n",
              "  </tbody>\n",
              "</table>\n",
              "</div>\n",
              "    <div class=\"colab-df-buttons\">\n",
              "\n",
              "  <div class=\"colab-df-container\">\n",
              "    <button class=\"colab-df-convert\" onclick=\"convertToInteractive('df-95857f05-659f-4c93-be8f-4d5e5f9ec9d7')\"\n",
              "            title=\"Convert this dataframe to an interactive table.\"\n",
              "            style=\"display:none;\">\n",
              "\n",
              "  <svg xmlns=\"http://www.w3.org/2000/svg\" height=\"24px\" viewBox=\"0 -960 960 960\">\n",
              "    <path d=\"M120-120v-720h720v720H120Zm60-500h600v-160H180v160Zm220 220h160v-160H400v160Zm0 220h160v-160H400v160ZM180-400h160v-160H180v160Zm440 0h160v-160H620v160ZM180-180h160v-160H180v160Zm440 0h160v-160H620v160Z\"/>\n",
              "  </svg>\n",
              "    </button>\n",
              "\n",
              "  <style>\n",
              "    .colab-df-container {\n",
              "      display:flex;\n",
              "      gap: 12px;\n",
              "    }\n",
              "\n",
              "    .colab-df-convert {\n",
              "      background-color: #E8F0FE;\n",
              "      border: none;\n",
              "      border-radius: 50%;\n",
              "      cursor: pointer;\n",
              "      display: none;\n",
              "      fill: #1967D2;\n",
              "      height: 32px;\n",
              "      padding: 0 0 0 0;\n",
              "      width: 32px;\n",
              "    }\n",
              "\n",
              "    .colab-df-convert:hover {\n",
              "      background-color: #E2EBFA;\n",
              "      box-shadow: 0px 1px 2px rgba(60, 64, 67, 0.3), 0px 1px 3px 1px rgba(60, 64, 67, 0.15);\n",
              "      fill: #174EA6;\n",
              "    }\n",
              "\n",
              "    .colab-df-buttons div {\n",
              "      margin-bottom: 4px;\n",
              "    }\n",
              "\n",
              "    [theme=dark] .colab-df-convert {\n",
              "      background-color: #3B4455;\n",
              "      fill: #D2E3FC;\n",
              "    }\n",
              "\n",
              "    [theme=dark] .colab-df-convert:hover {\n",
              "      background-color: #434B5C;\n",
              "      box-shadow: 0px 1px 3px 1px rgba(0, 0, 0, 0.15);\n",
              "      filter: drop-shadow(0px 1px 2px rgba(0, 0, 0, 0.3));\n",
              "      fill: #FFFFFF;\n",
              "    }\n",
              "  </style>\n",
              "\n",
              "    <script>\n",
              "      const buttonEl =\n",
              "        document.querySelector('#df-95857f05-659f-4c93-be8f-4d5e5f9ec9d7 button.colab-df-convert');\n",
              "      buttonEl.style.display =\n",
              "        google.colab.kernel.accessAllowed ? 'block' : 'none';\n",
              "\n",
              "      async function convertToInteractive(key) {\n",
              "        const element = document.querySelector('#df-95857f05-659f-4c93-be8f-4d5e5f9ec9d7');\n",
              "        const dataTable =\n",
              "          await google.colab.kernel.invokeFunction('convertToInteractive',\n",
              "                                                    [key], {});\n",
              "        if (!dataTable) return;\n",
              "\n",
              "        const docLinkHtml = 'Like what you see? Visit the ' +\n",
              "          '<a target=\"_blank\" href=https://colab.research.google.com/notebooks/data_table.ipynb>data table notebook</a>'\n",
              "          + ' to learn more about interactive tables.';\n",
              "        element.innerHTML = '';\n",
              "        dataTable['output_type'] = 'display_data';\n",
              "        await google.colab.output.renderOutput(dataTable, element);\n",
              "        const docLink = document.createElement('div');\n",
              "        docLink.innerHTML = docLinkHtml;\n",
              "        element.appendChild(docLink);\n",
              "      }\n",
              "    </script>\n",
              "  </div>\n",
              "\n",
              "\n",
              "<div id=\"df-61ab47b6-493b-4b92-bee3-83a979b43225\">\n",
              "  <button class=\"colab-df-quickchart\" onclick=\"quickchart('df-61ab47b6-493b-4b92-bee3-83a979b43225')\"\n",
              "            title=\"Suggest charts\"\n",
              "            style=\"display:none;\">\n",
              "\n",
              "<svg xmlns=\"http://www.w3.org/2000/svg\" height=\"24px\"viewBox=\"0 0 24 24\"\n",
              "     width=\"24px\">\n",
              "    <g>\n",
              "        <path d=\"M19 3H5c-1.1 0-2 .9-2 2v14c0 1.1.9 2 2 2h14c1.1 0 2-.9 2-2V5c0-1.1-.9-2-2-2zM9 17H7v-7h2v7zm4 0h-2V7h2v10zm4 0h-2v-4h2v4z\"/>\n",
              "    </g>\n",
              "</svg>\n",
              "  </button>\n",
              "\n",
              "<style>\n",
              "  .colab-df-quickchart {\n",
              "      --bg-color: #E8F0FE;\n",
              "      --fill-color: #1967D2;\n",
              "      --hover-bg-color: #E2EBFA;\n",
              "      --hover-fill-color: #174EA6;\n",
              "      --disabled-fill-color: #AAA;\n",
              "      --disabled-bg-color: #DDD;\n",
              "  }\n",
              "\n",
              "  [theme=dark] .colab-df-quickchart {\n",
              "      --bg-color: #3B4455;\n",
              "      --fill-color: #D2E3FC;\n",
              "      --hover-bg-color: #434B5C;\n",
              "      --hover-fill-color: #FFFFFF;\n",
              "      --disabled-bg-color: #3B4455;\n",
              "      --disabled-fill-color: #666;\n",
              "  }\n",
              "\n",
              "  .colab-df-quickchart {\n",
              "    background-color: var(--bg-color);\n",
              "    border: none;\n",
              "    border-radius: 50%;\n",
              "    cursor: pointer;\n",
              "    display: none;\n",
              "    fill: var(--fill-color);\n",
              "    height: 32px;\n",
              "    padding: 0;\n",
              "    width: 32px;\n",
              "  }\n",
              "\n",
              "  .colab-df-quickchart:hover {\n",
              "    background-color: var(--hover-bg-color);\n",
              "    box-shadow: 0 1px 2px rgba(60, 64, 67, 0.3), 0 1px 3px 1px rgba(60, 64, 67, 0.15);\n",
              "    fill: var(--button-hover-fill-color);\n",
              "  }\n",
              "\n",
              "  .colab-df-quickchart-complete:disabled,\n",
              "  .colab-df-quickchart-complete:disabled:hover {\n",
              "    background-color: var(--disabled-bg-color);\n",
              "    fill: var(--disabled-fill-color);\n",
              "    box-shadow: none;\n",
              "  }\n",
              "\n",
              "  .colab-df-spinner {\n",
              "    border: 2px solid var(--fill-color);\n",
              "    border-color: transparent;\n",
              "    border-bottom-color: var(--fill-color);\n",
              "    animation:\n",
              "      spin 1s steps(1) infinite;\n",
              "  }\n",
              "\n",
              "  @keyframes spin {\n",
              "    0% {\n",
              "      border-color: transparent;\n",
              "      border-bottom-color: var(--fill-color);\n",
              "      border-left-color: var(--fill-color);\n",
              "    }\n",
              "    20% {\n",
              "      border-color: transparent;\n",
              "      border-left-color: var(--fill-color);\n",
              "      border-top-color: var(--fill-color);\n",
              "    }\n",
              "    30% {\n",
              "      border-color: transparent;\n",
              "      border-left-color: var(--fill-color);\n",
              "      border-top-color: var(--fill-color);\n",
              "      border-right-color: var(--fill-color);\n",
              "    }\n",
              "    40% {\n",
              "      border-color: transparent;\n",
              "      border-right-color: var(--fill-color);\n",
              "      border-top-color: var(--fill-color);\n",
              "    }\n",
              "    60% {\n",
              "      border-color: transparent;\n",
              "      border-right-color: var(--fill-color);\n",
              "    }\n",
              "    80% {\n",
              "      border-color: transparent;\n",
              "      border-right-color: var(--fill-color);\n",
              "      border-bottom-color: var(--fill-color);\n",
              "    }\n",
              "    90% {\n",
              "      border-color: transparent;\n",
              "      border-bottom-color: var(--fill-color);\n",
              "    }\n",
              "  }\n",
              "</style>\n",
              "\n",
              "  <script>\n",
              "    async function quickchart(key) {\n",
              "      const quickchartButtonEl =\n",
              "        document.querySelector('#' + key + ' button');\n",
              "      quickchartButtonEl.disabled = true;  // To prevent multiple clicks.\n",
              "      quickchartButtonEl.classList.add('colab-df-spinner');\n",
              "      try {\n",
              "        const charts = await google.colab.kernel.invokeFunction(\n",
              "            'suggestCharts', [key], {});\n",
              "      } catch (error) {\n",
              "        console.error('Error during call to suggestCharts:', error);\n",
              "      }\n",
              "      quickchartButtonEl.classList.remove('colab-df-spinner');\n",
              "      quickchartButtonEl.classList.add('colab-df-quickchart-complete');\n",
              "    }\n",
              "    (() => {\n",
              "      let quickchartButtonEl =\n",
              "        document.querySelector('#df-61ab47b6-493b-4b92-bee3-83a979b43225 button');\n",
              "      quickchartButtonEl.style.display =\n",
              "        google.colab.kernel.accessAllowed ? 'block' : 'none';\n",
              "    })();\n",
              "  </script>\n",
              "</div>\n",
              "    </div>\n",
              "  </div>\n"
            ],
            "text/plain": [
              "  par_id      art_id    keyword country  \\\n",
              "0      1  @@24942188   hopeless      ph   \n",
              "1      2  @@21968160    migrant      gh   \n",
              "2      3  @@16584954  immigrant      ie   \n",
              "3      4   @@7811231   disabled      nz   \n",
              "4      5   @@1494111    refugee      ca   \n",
              "\n",
              "                                                text  label orig_label  \n",
              "0  We 're living in times of absolute insanity , ...      0          0  \n",
              "1  In Libya today , there are countless number of...      0          0  \n",
              "2  \"White House press secretary Sean Spicer said ...      0          0  \n",
              "3  Council customers only signs would be displaye...      0          0  \n",
              "4  \"\"\" Just like we received migrants fleeing El ...      0          0  "
            ]
          },
          "execution_count": 9,
          "metadata": {},
          "output_type": "execute_result"
        }
      ],
      "source": [
        "from dont_patronize_me import DontPatronizeMe\n",
        "dpm = DontPatronizeMe('.', '.')\n",
        "dpm.load_task1()\n",
        "train_df=dpm.train_task1_df\n",
        "train_df.head()"
      ]
    },
    {
      "cell_type": "markdown",
      "metadata": {
        "id": "SqGTZhct_sIp"
      },
      "source": [
        "## 1. Data analysis of the training data"
      ]
    },
    {
      "cell_type": "markdown",
      "metadata": {
        "id": "-A9ZlKdZaC_-"
      },
      "source": [
        "1.a. Frequency of class labels"
      ]
    },
    {
      "cell_type": "code",
      "execution_count": 10,
      "metadata": {
        "colab": {
          "base_uri": "https://localhost:8080/"
        },
        "id": "JIlo5j5Q_zJp",
        "outputId": "85d7d4f9-a7fb-4cb9-eabe-ad576b13ae3d"
      },
      "outputs": [
        {
          "name": "stdout",
          "output_type": "stream",
          "text": [
            "Number of paragraphs in train dataset: \n",
            "10469\n",
            "----------------------------------------------------------------------------------------------------\n",
            "\n",
            "PCL Categories:\n",
            "Label 0: both annotators assigned the label 0\n",
            "Label 1: one annotator assigned the label 0 and the other assigned the label 1\n",
            "Label 2: both annotators assigned the label 1\n",
            "Label 3: one annotator assigned the label 2 and the other assigned the label 1\n",
            "Label 4: both annotators assigned the label 2\n",
            "\n",
            "   Count  Percentage\n",
            "0   8529        81.5\n",
            "1    947         9.0\n",
            "2    144         1.4\n",
            "3    458         4.4\n",
            "4    391         3.7\n",
            "----------------------------------------------------------------------------------------------------\n",
            "\n",
            "Binary Labels:\n",
            "Label 0: Number of non-PCL paragraphs (labels 0 and 1 from category labels)\n",
            "Label 1: Number of PCL paragraphs (labels 2, 3 and 4 from category labels)\n",
            "\n",
            "   Count  Percentage\n",
            "0   9476        90.5\n",
            "1    993         9.5\n",
            "----------------------------------------------------------------------------------------------------\n"
          ]
        }
      ],
      "source": [
        "num_paragraphs = len(train_df)\n",
        "\n",
        "category_label_counts = train_df[\"orig_label\"].value_counts().sort_index()\n",
        "pcl_label_counts = train_df[\"label\"].value_counts().sort_index()\n",
        "\n",
        "category_label_data = category_label_counts.to_frame(name=\"Count\")\n",
        "pcl_label_data = pcl_label_counts.to_frame(name=\"Count\")\n",
        "\n",
        "# Calculate percentages\n",
        "category_label_data['Percentage'] = ((category_label_counts / category_label_counts.sum()) * 100).round(1)\n",
        "pcl_label_data['Percentage'] = ((pcl_label_counts / pcl_label_counts.sum()) * 100).round(1)\n",
        "\n",
        "\n",
        "print(f\"Number of paragraphs in train dataset: \\n{num_paragraphs}\")\n",
        "print(100*\"-\")\n",
        "print(\"\\nPCL Categories:\")\n",
        "print(f\"Label 0: both annotators assigned the label 0\")\n",
        "print(f\"Label 1: one annotator assigned the label 0 and the other assigned the label 1\")\n",
        "print(f\"Label 2: both annotators assigned the label 1\")\n",
        "print(f\"Label 3: one annotator assigned the label 2 and the other assigned the label 1\")\n",
        "print(f\"Label 4: both annotators assigned the label 2\\n\")\n",
        "print(category_label_data)\n",
        "print(100*\"-\")\n",
        "print(\"\\nBinary Labels:\")\n",
        "print(f\"Label 0: Number of non-PCL paragraphs (labels 0 and 1 from category labels)\")\n",
        "print(f\"Label 1: Number of PCL paragraphs (labels 2, 3 and 4 from category labels)\\n\")\n",
        "print(pcl_label_data)\n",
        "print(100*\"-\")\n",
        "\n",
        "# Convert Series to DataFrames\n",
        "category_label_counts = category_label_counts.reset_index()\n",
        "pcl_label_counts = pcl_label_counts.reset_index()"
      ]
    },
    {
      "cell_type": "code",
      "execution_count": 11,
      "metadata": {
        "colab": {
          "base_uri": "https://localhost:8080/",
          "height": 521
        },
        "id": "aHrChQcHxKb6",
        "outputId": "771f83b1-6996-4772-da75-f29634d18032"
      },
      "outputs": [
        {
          "data": {
            "image/png": "[encoded data removed]",
            "text/plain": [
              "<Figure size 800x200 with 1 Axes>"
            ]
          },
          "metadata": {},
          "output_type": "display_data"
        },
        {
          "data": {
            "image/png": "[encoded data removed]",
            "text/plain": [
              "<Figure size 800x200 with 1 Axes>"
            ]
          },
          "metadata": {},
          "output_type": "display_data"
        }
      ],
      "source": [
        "sns.set_style('whitegrid')\n",
        "\n",
        "# Plotting category labels\n",
        "plt.figure(figsize=(8, 2))\n",
        "sns.barplot(x=category_label_counts.index, y=\"Count\", data=category_label_data)\n",
        "plt.xlabel(\"Label\", fontsize=16)\n",
        "plt.ylabel(\"Count\", fontsize=16)\n",
        "plt.title(\"Annotation Label\", fontsize=16)\n",
        "plt.xticks(fontsize=14)\n",
        "plt.yticks(fontsize=14)\n",
        "plt.show()\n",
        "\n",
        "# Plotting PCL labels\n",
        "plt.figure(figsize=(8, 2))\n",
        "sns.barplot(x=pcl_label_counts.index, y=\"Count\", data=pcl_label_data)\n",
        "plt.xlabel(\"Label\", fontsize=16)\n",
        "plt.ylabel(\"Count\", fontsize=16)\n",
        "plt.title(\"PCL Labels\", fontsize=16)\n",
        "plt.xticks(fontsize=14)\n",
        "plt.yticks(fontsize=14)\n",
        "plt.show()"
      ]
    },
    {
      "cell_type": "markdown",
      "metadata": {
        "id": "GXBAsQXJxjr1"
      },
      "source": [
        "1.1.a Correlation of class labels and data features"
      ]
    },
    {
      "cell_type": "markdown",
      "metadata": {
        "id": "EJbRb-dQqbME"
      },
      "source": [
        "1.1.a.i Input lengths"
      ]
    },
    {
      "cell_type": "code",
      "execution_count": 12,
      "metadata": {
        "colab": {
          "base_uri": "https://localhost:8080/",
          "height": 279
        },
        "id": "LmsS72u5xjA5",
        "outputId": "000255bb-383f-4fc4-ecfa-1dd13a304527"
      },
      "outputs": [
        {
          "name": "stderr",
          "output_type": "stream",
          "text": [
            "[nltk_data] Downloading package punkt to /root/nltk_data...\n",
            "[nltk_data]   Unzipping tokenizers/punkt.zip.\n",
            "[nltk_data] Downloading package stopwords to /root/nltk_data...\n",
            "[nltk_data]   Unzipping corpora/stopwords.zip.\n"
          ]
        },
        {
          "data": {
            "application/vnd.google.colaboratory.intrinsic+json": {
              "summary": "{\n  \"name\": \"detailed_train_df\",\n  \"rows\": 10469,\n  \"fields\": [\n    {\n      \"column\": \"par_id\",\n      \"properties\": {\n        \"dtype\": \"string\",\n        \"num_unique_values\": 10469,\n        \"samples\": [\n          \"7567\",\n          \"7992\",\n          \"2115\"\n        ],\n        \"semantic_type\": \"\",\n        \"description\": \"\"\n      }\n    },\n    {\n      \"column\": \"art_id\",\n      \"properties\": {\n        \"dtype\": \"string\",\n        \"num_unique_values\": 10093,\n        \"samples\": [\n          \"@@15858151\",\n          \"@@25187013\",\n          \"@@896186\"\n        ],\n        \"semantic_type\": \"\",\n        \"description\": \"\"\n      }\n    },\n    {\n      \"column\": \"keyword\",\n      \"properties\": {\n        \"dtype\": \"category\",\n        \"num_unique_values\": 10,\n        \"samples\": [\n          \"women\",\n          \"migrant\",\n          \"in-need\"\n        ],\n        \"semantic_type\": \"\",\n        \"description\": \"\"\n      }\n    },\n    {\n      \"column\": \"country\",\n      \"properties\": {\n        \"dtype\": \"category\",\n        \"num_unique_values\": 20,\n        \"samples\": [\n          \"ph\",\n          \"lk\",\n          \"bd\"\n        ],\n        \"semantic_type\": \"\",\n        \"description\": \"\"\n      }\n    },\n    {\n      \"column\": \"text\",\n      \"properties\": {\n        \"dtype\": \"string\",\n        \"num_unique_values\": 10469,\n        \"samples\": [\n          \"Legislator Fernando Cheung Chiu- hung said yesterday it is not the first time the government has discriminated against intellectually disabled students .\",\n          \"\\\"\\\"\\\" Instead of wasting his time sending useless and insulting tweets regarding other countries , he would be better off seeing to the domestic issues of his own country such as daily killings of dozens of people ... and the existence of millions of homeless and hungry people , \\\"\\\" said ministry spokesman Bahram Ghasemi .\\\"\",\n          \"Old buildings , coastal areas most vulnerable to major earthquake in B.C.\"\n        ],\n        \"semantic_type\": \"\",\n        \"description\": \"\"\n      }\n    },\n    {\n      \"column\": \"label\",\n      \"properties\": {\n        \"dtype\": \"number\",\n        \"std\": 0,\n        \"min\": 0,\n        \"max\": 1,\n        \"num_unique_values\": 2,\n        \"samples\": [\n          1,\n          0\n        ],\n        \"semantic_type\": \"\",\n        \"description\": \"\"\n      }\n    },\n    {\n      \"column\": \"orig_label\",\n      \"properties\": {\n        \"dtype\": \"category\",\n        \"num_unique_values\": 5,\n        \"samples\": [\n          \"1\",\n          \"4\"\n        ],\n        \"semantic_type\": \"\",\n        \"description\": \"\"\n      }\n    },\n    {\n      \"column\": \"tokens\",\n      \"properties\": {\n        \"dtype\": \"number\",\n        \"std\": 29,\n        \"min\": 0,\n        \"max\": 918,\n        \"num_unique_values\": 195,\n        \"samples\": [\n          155,\n          80\n        ],\n        \"semantic_type\": \"\",\n        \"description\": \"\"\n      }\n    },\n    {\n      \"column\": \"tokens_no_stp\",\n      \"properties\": {\n        \"dtype\": \"number\",\n        \"std\": 15,\n        \"min\": 0,\n        \"max\": 513,\n        \"num_unique_values\": 111,\n        \"samples\": [\n          91,\n          43\n        ],\n        \"semantic_type\": \"\",\n        \"description\": \"\"\n      }\n    },\n    {\n      \"column\": \"input_length\",\n      \"properties\": {\n        \"dtype\": \"number\",\n        \"std\": 160,\n        \"min\": 0,\n        \"max\": 5501,\n        \"num_unique_values\": 796,\n        \"samples\": [\n          683,\n          25\n        ],\n        \"semantic_type\": \"\",\n        \"description\": \"\"\n      }\n    },\n    {\n      \"column\": \"input_length_no_stp\",\n      \"properties\": {\n        \"dtype\": \"number\",\n        \"std\": 98,\n        \"min\": 0,\n        \"max\": 3572,\n        \"num_unique_values\": 530,\n        \"samples\": [\n          129,\n          463\n        ],\n        \"semantic_type\": \"\",\n        \"description\": \"\"\n      }\n    },\n    {\n      \"column\": \"punctuation_count\",\n      \"properties\": {\n        \"dtype\": \"number\",\n        \"std\": 5,\n        \"min\": 0,\n        \"max\": 100,\n        \"num_unique_values\": 49,\n        \"samples\": [\n          9,\n          61\n        ],\n        \"semantic_type\": \"\",\n        \"description\": \"\"\n      }\n    }\n  ]\n}",
              "type": "dataframe",
              "variable_name": "detailed_train_df"
            },
            "text/html": [
              "\n",
              "  <div id=\"df-37ec7583-df18-41ea-aa7a-73d7b44411eb\" class=\"colab-df-container\">\n",
              "    <div>\n",
              "<style scoped>\n",
              "    .dataframe tbody tr th:only-of-type {\n",
              "        vertical-align: middle;\n",
              "    }\n",
              "\n",
              "    .dataframe tbody tr th {\n",
              "        vertical-align: top;\n",
              "    }\n",
              "\n",
              "    .dataframe thead th {\n",
              "        text-align: right;\n",
              "    }\n",
              "</style>\n",
              "<table border=\"1\" class=\"dataframe\">\n",
              "  <thead>\n",
              "    <tr style=\"text-align: right;\">\n",
              "      <th></th>\n",
              "      <th>par_id</th>\n",
              "      <th>art_id</th>\n",
              "      <th>keyword</th>\n",
              "      <th>country</th>\n",
              "      <th>text</th>\n",
              "      <th>label</th>\n",
              "      <th>orig_label</th>\n",
              "      <th>tokens</th>\n",
              "      <th>tokens_no_stp</th>\n",
              "      <th>input_length</th>\n",
              "      <th>input_length_no_stp</th>\n",
              "      <th>punctuation_count</th>\n",
              "    </tr>\n",
              "  </thead>\n",
              "  <tbody>\n",
              "    <tr>\n",
              "      <th>0</th>\n",
              "      <td>1</td>\n",
              "      <td>@@24942188</td>\n",
              "      <td>hopeless</td>\n",
              "      <td>ph</td>\n",
              "      <td>We 're living in times of absolute insanity , ...</td>\n",
              "      <td>0</td>\n",
              "      <td>0</td>\n",
              "      <td>123</td>\n",
              "      <td>65</td>\n",
              "      <td>620</td>\n",
              "      <td>360</td>\n",
              "      <td>17</td>\n",
              "    </tr>\n",
              "    <tr>\n",
              "      <th>1</th>\n",
              "      <td>2</td>\n",
              "      <td>@@21968160</td>\n",
              "      <td>migrant</td>\n",
              "      <td>gh</td>\n",
              "      <td>In Libya today , there are countless number of...</td>\n",
              "      <td>0</td>\n",
              "      <td>0</td>\n",
              "      <td>41</td>\n",
              "      <td>21</td>\n",
              "      <td>237</td>\n",
              "      <td>140</td>\n",
              "      <td>5</td>\n",
              "    </tr>\n",
              "    <tr>\n",
              "      <th>2</th>\n",
              "      <td>3</td>\n",
              "      <td>@@16584954</td>\n",
              "      <td>immigrant</td>\n",
              "      <td>ie</td>\n",
              "      <td>\"White House press secretary Sean Spicer said ...</td>\n",
              "      <td>0</td>\n",
              "      <td>0</td>\n",
              "      <td>31</td>\n",
              "      <td>23</td>\n",
              "      <td>162</td>\n",
              "      <td>120</td>\n",
              "      <td>7</td>\n",
              "    </tr>\n",
              "    <tr>\n",
              "      <th>3</th>\n",
              "      <td>4</td>\n",
              "      <td>@@7811231</td>\n",
              "      <td>disabled</td>\n",
              "      <td>nz</td>\n",
              "      <td>Council customers only signs would be displaye...</td>\n",
              "      <td>0</td>\n",
              "      <td>0</td>\n",
              "      <td>30</td>\n",
              "      <td>18</td>\n",
              "      <td>162</td>\n",
              "      <td>102</td>\n",
              "      <td>2</td>\n",
              "    </tr>\n",
              "    <tr>\n",
              "      <th>4</th>\n",
              "      <td>5</td>\n",
              "      <td>@@1494111</td>\n",
              "      <td>refugee</td>\n",
              "      <td>ca</td>\n",
              "      <td>\"\"\" Just like we received migrants fleeing El ...</td>\n",
              "      <td>0</td>\n",
              "      <td>0</td>\n",
              "      <td>57</td>\n",
              "      <td>35</td>\n",
              "      <td>277</td>\n",
              "      <td>182</td>\n",
              "      <td>14</td>\n",
              "    </tr>\n",
              "  </tbody>\n",
              "</table>\n",
              "</div>\n",
              "    <div class=\"colab-df-buttons\">\n",
              "\n",
              "  <div class=\"colab-df-container\">\n",
              "    <button class=\"colab-df-convert\" onclick=\"convertToInteractive('df-37ec7583-df18-41ea-aa7a-73d7b44411eb')\"\n",
              "            title=\"Convert this dataframe to an interactive table.\"\n",
              "            style=\"display:none;\">\n",
              "\n",
              "  <svg xmlns=\"http://www.w3.org/2000/svg\" height=\"24px\" viewBox=\"0 -960 960 960\">\n",
              "    <path d=\"M120-120v-720h720v720H120Zm60-500h600v-160H180v160Zm220 220h160v-160H400v160Zm0 220h160v-160H400v160ZM180-400h160v-160H180v160Zm440 0h160v-160H620v160ZM180-180h160v-160H180v160Zm440 0h160v-160H620v160Z\"/>\n",
              "  </svg>\n",
              "    </button>\n",
              "\n",
              "  <style>\n",
              "    .colab-df-container {\n",
              "      display:flex;\n",
              "      gap: 12px;\n",
              "    }\n",
              "\n",
              "    .colab-df-convert {\n",
              "      background-color: #E8F0FE;\n",
              "      border: none;\n",
              "      border-radius: 50%;\n",
              "      cursor: pointer;\n",
              "      display: none;\n",
              "      fill: #1967D2;\n",
              "      height: 32px;\n",
              "      padding: 0 0 0 0;\n",
              "      width: 32px;\n",
              "    }\n",
              "\n",
              "    .colab-df-convert:hover {\n",
              "      background-color: #E2EBFA;\n",
              "      box-shadow: 0px 1px 2px rgba(60, 64, 67, 0.3), 0px 1px 3px 1px rgba(60, 64, 67, 0.15);\n",
              "      fill: #174EA6;\n",
              "    }\n",
              "\n",
              "    .colab-df-buttons div {\n",
              "      margin-bottom: 4px;\n",
              "    }\n",
              "\n",
              "    [theme=dark] .colab-df-convert {\n",
              "      background-color: #3B4455;\n",
              "      fill: #D2E3FC;\n",
              "    }\n",
              "\n",
              "    [theme=dark] .colab-df-convert:hover {\n",
              "      background-color: #434B5C;\n",
              "      box-shadow: 0px 1px 3px 1px rgba(0, 0, 0, 0.15);\n",
              "      filter: drop-shadow(0px 1px 2px rgba(0, 0, 0, 0.3));\n",
              "      fill: #FFFFFF;\n",
              "    }\n",
              "  </style>\n",
              "\n",
              "    <script>\n",
              "      const buttonEl =\n",
              "        document.querySelector('#df-37ec7583-df18-41ea-aa7a-73d7b44411eb button.colab-df-convert');\n",
              "      buttonEl.style.display =\n",
              "        google.colab.kernel.accessAllowed ? 'block' : 'none';\n",
              "\n",
              "      async function convertToInteractive(key) {\n",
              "        const element = document.querySelector('#df-37ec7583-df18-41ea-aa7a-73d7b44411eb');\n",
              "        const dataTable =\n",
              "          await google.colab.kernel.invokeFunction('convertToInteractive',\n",
              "                                                    [key], {});\n",
              "        if (!dataTable) return;\n",
              "\n",
              "        const docLinkHtml = 'Like what you see? Visit the ' +\n",
              "          '<a target=\"_blank\" href=https://colab.research.google.com/notebooks/data_table.ipynb>data table notebook</a>'\n",
              "          + ' to learn more about interactive tables.';\n",
              "        element.innerHTML = '';\n",
              "        dataTable['output_type'] = 'display_data';\n",
              "        await google.colab.output.renderOutput(dataTable, element);\n",
              "        const docLink = document.createElement('div');\n",
              "        docLink.innerHTML = docLinkHtml;\n",
              "        element.appendChild(docLink);\n",
              "      }\n",
              "    </script>\n",
              "  </div>\n",
              "\n",
              "\n",
              "<div id=\"df-6d047e5d-7916-4724-b420-3210b541188e\">\n",
              "  <button class=\"colab-df-quickchart\" onclick=\"quickchart('df-6d047e5d-7916-4724-b420-3210b541188e')\"\n",
              "            title=\"Suggest charts\"\n",
              "            style=\"display:none;\">\n",
              "\n",
              "<svg xmlns=\"http://www.w3.org/2000/svg\" height=\"24px\"viewBox=\"0 0 24 24\"\n",
              "     width=\"24px\">\n",
              "    <g>\n",
              "        <path d=\"M19 3H5c-1.1 0-2 .9-2 2v14c0 1.1.9 2 2 2h14c1.1 0 2-.9 2-2V5c0-1.1-.9-2-2-2zM9 17H7v-7h2v7zm4 0h-2V7h2v10zm4 0h-2v-4h2v4z\"/>\n",
              "    </g>\n",
              "</svg>\n",
              "  </button>\n",
              "\n",
              "<style>\n",
              "  .colab-df-quickchart {\n",
              "      --bg-color: #E8F0FE;\n",
              "      --fill-color: #1967D2;\n",
              "      --hover-bg-color: #E2EBFA;\n",
              "      --hover-fill-color: #174EA6;\n",
              "      --disabled-fill-color: #AAA;\n",
              "      --disabled-bg-color: #DDD;\n",
              "  }\n",
              "\n",
              "  [theme=dark] .colab-df-quickchart {\n",
              "      --bg-color: #3B4455;\n",
              "      --fill-color: #D2E3FC;\n",
              "      --hover-bg-color: #434B5C;\n",
              "      --hover-fill-color: #FFFFFF;\n",
              "      --disabled-bg-color: #3B4455;\n",
              "      --disabled-fill-color: #666;\n",
              "  }\n",
              "\n",
              "  .colab-df-quickchart {\n",
              "    background-color: var(--bg-color);\n",
              "    border: none;\n",
              "    border-radius: 50%;\n",
              "    cursor: pointer;\n",
              "    display: none;\n",
              "    fill: var(--fill-color);\n",
              "    height: 32px;\n",
              "    padding: 0;\n",
              "    width: 32px;\n",
              "  }\n",
              "\n",
              "  .colab-df-quickchart:hover {\n",
              "    background-color: var(--hover-bg-color);\n",
              "    box-shadow: 0 1px 2px rgba(60, 64, 67, 0.3), 0 1px 3px 1px rgba(60, 64, 67, 0.15);\n",
              "    fill: var(--button-hover-fill-color);\n",
              "  }\n",
              "\n",
              "  .colab-df-quickchart-complete:disabled,\n",
              "  .colab-df-quickchart-complete:disabled:hover {\n",
              "    background-color: var(--disabled-bg-color);\n",
              "    fill: var(--disabled-fill-color);\n",
              "    box-shadow: none;\n",
              "  }\n",
              "\n",
              "  .colab-df-spinner {\n",
              "    border: 2px solid var(--fill-color);\n",
              "    border-color: transparent;\n",
              "    border-bottom-color: var(--fill-color);\n",
              "    animation:\n",
              "      spin 1s steps(1) infinite;\n",
              "  }\n",
              "\n",
              "  @keyframes spin {\n",
              "    0% {\n",
              "      border-color: transparent;\n",
              "      border-bottom-color: var(--fill-color);\n",
              "      border-left-color: var(--fill-color);\n",
              "    }\n",
              "    20% {\n",
              "      border-color: transparent;\n",
              "      border-left-color: var(--fill-color);\n",
              "      border-top-color: var(--fill-color);\n",
              "    }\n",
              "    30% {\n",
              "      border-color: transparent;\n",
              "      border-left-color: var(--fill-color);\n",
              "      border-top-color: var(--fill-color);\n",
              "      border-right-color: var(--fill-color);\n",
              "    }\n",
              "    40% {\n",
              "      border-color: transparent;\n",
              "      border-right-color: var(--fill-color);\n",
              "      border-top-color: var(--fill-color);\n",
              "    }\n",
              "    60% {\n",
              "      border-color: transparent;\n",
              "      border-right-color: var(--fill-color);\n",
              "    }\n",
              "    80% {\n",
              "      border-color: transparent;\n",
              "      border-right-color: var(--fill-color);\n",
              "      border-bottom-color: var(--fill-color);\n",
              "    }\n",
              "    90% {\n",
              "      border-color: transparent;\n",
              "      border-bottom-color: var(--fill-color);\n",
              "    }\n",
              "  }\n",
              "</style>\n",
              "\n",
              "  <script>\n",
              "    async function quickchart(key) {\n",
              "      const quickchartButtonEl =\n",
              "        document.querySelector('#' + key + ' button');\n",
              "      quickchartButtonEl.disabled = true;  // To prevent multiple clicks.\n",
              "      quickchartButtonEl.classList.add('colab-df-spinner');\n",
              "      try {\n",
              "        const charts = await google.colab.kernel.invokeFunction(\n",
              "            'suggestCharts', [key], {});\n",
              "      } catch (error) {\n",
              "        console.error('Error during call to suggestCharts:', error);\n",
              "      }\n",
              "      quickchartButtonEl.classList.remove('colab-df-spinner');\n",
              "      quickchartButtonEl.classList.add('colab-df-quickchart-complete');\n",
              "    }\n",
              "    (() => {\n",
              "      let quickchartButtonEl =\n",
              "        document.querySelector('#df-6d047e5d-7916-4724-b420-3210b541188e button');\n",
              "      quickchartButtonEl.style.display =\n",
              "        google.colab.kernel.accessAllowed ? 'block' : 'none';\n",
              "    })();\n",
              "  </script>\n",
              "</div>\n",
              "    </div>\n",
              "  </div>\n"
            ],
            "text/plain": [
              "  par_id      art_id    keyword country  \\\n",
              "0      1  @@24942188   hopeless      ph   \n",
              "1      2  @@21968160    migrant      gh   \n",
              "2      3  @@16584954  immigrant      ie   \n",
              "3      4   @@7811231   disabled      nz   \n",
              "4      5   @@1494111    refugee      ca   \n",
              "\n",
              "                                                text  label orig_label  \\\n",
              "0  We 're living in times of absolute insanity , ...      0          0   \n",
              "1  In Libya today , there are countless number of...      0          0   \n",
              "2  \"White House press secretary Sean Spicer said ...      0          0   \n",
              "3  Council customers only signs would be displaye...      0          0   \n",
              "4  \"\"\" Just like we received migrants fleeing El ...      0          0   \n",
              "\n",
              "   tokens  tokens_no_stp  input_length  input_length_no_stp  punctuation_count  \n",
              "0     123             65           620                  360                 17  \n",
              "1      41             21           237                  140                  5  \n",
              "2      31             23           162                  120                  7  \n",
              "3      30             18           162                  102                  2  \n",
              "4      57             35           277                  182                 14  "
            ]
          },
          "execution_count": 12,
          "metadata": {},
          "output_type": "execute_result"
        }
      ],
      "source": [
        "# Input lengths\n",
        "nltk.download('punkt')\n",
        "nltk.download('stopwords')\n",
        "detailed_train_df = train_df.copy()\n",
        "\n",
        "def calculate_paragraph_length(paragraph):\n",
        "    return len(paragraph)\n",
        "\n",
        "def calculate_input_token_count(paragraph):\n",
        "    tokens = nltk.word_tokenize(paragraph)\n",
        "    return len(tokens)\n",
        "\n",
        "def calculate_tokens_without_stopwords_and_punctuation(paragraph):\n",
        "    tokens = nltk.word_tokenize(paragraph)\n",
        "    tokens_without_stopwords_and_punctuation = [token for token in tokens if token.lower() not in set(stopwords.words('english')) and token not in string.punctuation]\n",
        "    return len(tokens_without_stopwords_and_punctuation)\n",
        "\n",
        "def calculate_length_without_stopwords_and_punctuation(paragraph):\n",
        "    tokens = nltk.word_tokenize(paragraph)\n",
        "    tokens_without_stopwords_and_punctuation = [token for token in tokens if token.lower() not in set(stopwords.words('english')) and token not in string.punctuation]\n",
        "    return len(\"\".join(tokens_without_stopwords_and_punctuation))\n",
        "\n",
        "def count_punctuation(paragraph):\n",
        "    return sum(1 for char in paragraph if char in string.punctuation)\n",
        "\n",
        "detailed_train_df[\"tokens\"] = detailed_train_df[\"text\"].apply(calculate_input_token_count)\n",
        "detailed_train_df[\"tokens_no_stp\"] = detailed_train_df[\"text\"].apply(calculate_tokens_without_stopwords_and_punctuation)\n",
        "detailed_train_df[\"input_length\"] = detailed_train_df[\"text\"].apply(calculate_paragraph_length)\n",
        "detailed_train_df[\"input_length_no_stp\"] = detailed_train_df[\"text\"].apply(calculate_length_without_stopwords_and_punctuation)\n",
        "detailed_train_df[\"punctuation_count\"] = detailed_train_df[\"text\"].apply(count_punctuation)\n",
        "\n",
        "detailed_train_df.head()"
      ]
    },
    {
      "cell_type": "code",
      "execution_count": 13,
      "metadata": {
        "colab": {
          "base_uri": "https://localhost:8080/"
        },
        "id": "uwPuLWgWPdvQ",
        "outputId": "307ec8ee-7bff-4123-82ea-534b50f40145"
      },
      "outputs": [
        {
          "name": "stdout",
          "output_type": "stream",
          "text": [
            "Mean input length:\n",
            "267.6\n",
            "Mean num tokens:\n",
            "49.7\n"
          ]
        }
      ],
      "source": [
        "print(\"Mean input length:\")\n",
        "print(detailed_train_df['input_length'].mean().round(1))\n",
        "\n",
        "print(\"Mean num tokens:\")\n",
        "print(detailed_train_df['tokens'].mean().round(1))"
      ]
    },
    {
      "cell_type": "code",
      "execution_count": 14,
      "metadata": {
        "colab": {
          "base_uri": "https://localhost:8080/",
          "height": 1000
        },
        "id": "HV8x0Q0lCm-D",
        "outputId": "17c75de5-1a77-4b88-8b8c-a7ea885af482"
      },
      "outputs": [
        {
          "data": {
            "image/png": "[encoded data removed]",
            "text/plain": [
              "<Figure size 800x300 with 1 Axes>"
            ]
          },
          "metadata": {},
          "output_type": "display_data"
        },
        {
          "data": {
            "image/png": "[encoded data removed]",
            "text/plain": [
              "<Figure size 800x300 with 1 Axes>"
            ]
          },
          "metadata": {},
          "output_type": "display_data"
        },
        {
          "data": {
            "image/png": "[encoded data removed]",
            "text/plain": [
              "<Figure size 800x300 with 1 Axes>"
            ]
          },
          "metadata": {},
          "output_type": "display_data"
        },
        {
          "data": {
            "image/png": "[encoded data removed]",
            "text/plain": [
              "<Figure size 800x300 with 1 Axes>"
            ]
          },
          "metadata": {},
          "output_type": "display_data"
        },
        {
          "name": "stdout",
          "output_type": "stream",
          "text": [
            "Input tokens statistics:\n",
            "Mean number of tokens\n",
            "label\n",
            "0    49.1\n",
            "1    55.2\n",
            "Name: tokens, dtype: float64\n",
            "Std number of tokens\n",
            "label\n",
            "0    29.2\n",
            "1    33.2\n",
            "Name: tokens, dtype: float64\n",
            "\n",
            "Input tokens (no stopwords or punctuation) statistics:\n",
            "Mean input length\n",
            "label\n",
            "0    26.5\n",
            "1    28.4\n",
            "Name: tokens_no_stp, dtype: float64\n",
            "Std input length\n",
            "label\n",
            "0    15.4\n",
            "1    16.8\n",
            "Name: tokens_no_stp, dtype: float64\n",
            "\n",
            "Input length statistics:\n",
            "Mean input length\n",
            "label\n",
            "0    265.4\n",
            "1    288.5\n",
            "Name: input_length, dtype: float64\n",
            "Std input length\n",
            "label\n",
            "0    158.4\n",
            "1    175.5\n",
            "Name: input_length, dtype: float64\n",
            "\n",
            "Input length (no stopwords or punctuation) statistics:\n",
            "Mean input length\n",
            "label\n",
            "0    164.0\n",
            "1    170.8\n",
            "Name: input_length_no_stp, dtype: float64\n",
            "Std input length\n",
            "label\n",
            "0     98.0\n",
            "1    103.8\n",
            "Name: input_length_no_stp, dtype: float64\n"
          ]
        }
      ],
      "source": [
        "plt.figure(figsize=(8, 3))\n",
        "sns.boxplot(x=\"label\", y=\"input_length\", data=detailed_train_df)\n",
        "plt.title(\"Input length for each class label\")\n",
        "plt.xlabel(\"Label\")\n",
        "plt.ylabel(\"Count\")\n",
        "plt.show()\n",
        "\n",
        "plt.figure(figsize=(8, 3))\n",
        "sns.boxplot(x=\"label\", y=\"input_length_no_stp\", data=detailed_train_df)\n",
        "plt.title(\"Input length (no stopwords or punctuation) for each class label\")\n",
        "plt.xlabel(\"Label\")\n",
        "plt.ylabel(\"Count\")\n",
        "plt.show()\n",
        "\n",
        "plt.figure(figsize=(8, 3))\n",
        "sns.boxplot(x=\"label\", y=\"tokens\", data=detailed_train_df)\n",
        "plt.title(\"Input tokens for each class label\")\n",
        "plt.xlabel(\"Label\")\n",
        "plt.ylabel(\"Count\")\n",
        "plt.show()\n",
        "\n",
        "plt.figure(figsize=(8, 3))\n",
        "sns.boxplot(x=\"label\", y=\"tokens_no_stp\", data=detailed_train_df)\n",
        "plt.title(\"Input tokens (no stopwords or punctuation) for each class label\")\n",
        "plt.xlabel(\"Label\")\n",
        "plt.ylabel(\"Count\")\n",
        "plt.show()\n",
        "\n",
        "print(\"Input tokens statistics:\")\n",
        "mean_tokens_per_label = detailed_train_df.groupby('label')['tokens'].mean().round(1)\n",
        "std_tokens_per_label = detailed_train_df.groupby('label')['tokens'].std().round(1)\n",
        "print(\"Mean number of tokens\")\n",
        "print(mean_tokens_per_label)\n",
        "print(\"Std number of tokens\")\n",
        "print(std_tokens_per_label)\n",
        "\n",
        "print(\"\\nInput tokens (no stopwords or punctuation) statistics:\")\n",
        "mean_tokens_no_stp_per_label = detailed_train_df.groupby('label')['tokens_no_stp'].mean().round(1)\n",
        "std_tokens_no_stp_per_label = detailed_train_df.groupby('label')['tokens_no_stp'].std().round(1)\n",
        "print(\"Mean input length\")\n",
        "print(mean_tokens_no_stp_per_label)\n",
        "print(\"Std input length\")\n",
        "print(std_tokens_no_stp_per_label)\n",
        "\n",
        "print(\"\\nInput length statistics:\")\n",
        "mean_input_length_per_label = detailed_train_df.groupby('label')['input_length'].mean().round(1)\n",
        "std_input_length_per_label = detailed_train_df.groupby('label')['input_length'].std().round(1)\n",
        "print(\"Mean input length\")\n",
        "print(mean_input_length_per_label)\n",
        "print(\"Std input length\")\n",
        "print(std_input_length_per_label)\n",
        "\n",
        "print(\"\\nInput length (no stopwords or punctuation) statistics:\")\n",
        "mean_no_stp_length_per_label = detailed_train_df.groupby('label')['input_length_no_stp'].mean().round(1)\n",
        "std_no_stp_length_per_label = detailed_train_df.groupby('label')['input_length_no_stp'].std().round(1)\n",
        "print(\"Mean input length\")\n",
        "print(mean_no_stp_length_per_label)\n",
        "print(\"Std input length\")\n",
        "print(std_no_stp_length_per_label)"
      ]
    },
    {
      "cell_type": "code",
      "execution_count": 15,
      "metadata": {
        "colab": {
          "base_uri": "https://localhost:8080/",
          "height": 1000
        },
        "id": "O-rT5Pt7DeYs",
        "outputId": "521ef7ce-d5e6-4612-fe7a-fbd0c6319998"
      },
      "outputs": [
        {
          "data": {
            "image/png": "[encoded data removed]",
            "text/plain": [
              "<Figure size 800x300 with 1 Axes>"
            ]
          },
          "metadata": {},
          "output_type": "display_data"
        },
        {
          "data": {
            "image/png": "[encoded data removed]",
            "text/plain": [
              "<Figure size 800x300 with 1 Axes>"
            ]
          },
          "metadata": {},
          "output_type": "display_data"
        },
        {
          "data": {
            "image/png": "[encoded data removed]",
            "text/plain": [
              "<Figure size 800x300 with 1 Axes>"
            ]
          },
          "metadata": {},
          "output_type": "display_data"
        },
        {
          "data": {
            "image/png": "[encoded data removed]",
            "text/plain": [
              "<Figure size 800x300 with 1 Axes>"
            ]
          },
          "metadata": {},
          "output_type": "display_data"
        },
        {
          "name": "stdout",
          "output_type": "stream",
          "text": [
            "Input tokens statistics:\n",
            "Mean number of tokens\n",
            "orig_label\n",
            "0    48.6\n",
            "1    53.6\n",
            "2    50.2\n",
            "3    53.2\n",
            "4    59.3\n",
            "Name: tokens, dtype: float64\n",
            "Std number of tokens\n",
            "orig_label\n",
            "0    28.9\n",
            "1    31.1\n",
            "2    31.5\n",
            "3    26.0\n",
            "4    40.3\n",
            "Name: tokens, dtype: float64\n",
            "\n",
            "Input tokens (no stopwords or punctuation) statistics:\n",
            "Mean input length\n",
            "orig_label\n",
            "0    26.3\n",
            "1    28.2\n",
            "2    26.9\n",
            "3    27.7\n",
            "4    29.9\n",
            "Name: tokens_no_stp, dtype: float64\n",
            "Std input length\n",
            "orig_label\n",
            "0    15.3\n",
            "1    15.9\n",
            "2    16.1\n",
            "3    13.4\n",
            "4    20.2\n",
            "Name: tokens_no_stp, dtype: float64\n",
            "\n",
            "Input length statistics:\n",
            "Mean input length\n",
            "orig_label\n",
            "0    263.3\n",
            "1    284.2\n",
            "2    270.2\n",
            "3    278.8\n",
            "4    306.5\n",
            "Name: input_length, dtype: float64\n",
            "Std input length\n",
            "orig_label\n",
            "0    157.0\n",
            "1    168.9\n",
            "2    171.5\n",
            "3    138.6\n",
            "4    211.0\n",
            "Name: input_length, dtype: float64\n",
            "\n",
            "Input length (no stopwords or punctuation) statistics:\n",
            "Mean input length\n",
            "orig_label\n",
            "0    163.2\n",
            "1    171.5\n",
            "2    165.0\n",
            "3    166.5\n",
            "4    177.9\n",
            "Name: input_length_no_stp, dtype: float64\n",
            "Std input length\n",
            "orig_label\n",
            "0     97.4\n",
            "1    102.7\n",
            "2    103.7\n",
            "3     83.8\n",
            "4    123.1\n",
            "Name: input_length_no_stp, dtype: float64\n"
          ]
        }
      ],
      "source": [
        "plt.figure(figsize=(8, 3))\n",
        "sns.boxplot(x=\"orig_label\", y=\"input_length\", data=detailed_train_df)\n",
        "plt.title(\"Input length for each class label\")\n",
        "plt.xlabel(\"Label\")\n",
        "plt.ylabel(\"Count\")\n",
        "plt.show()\n",
        "\n",
        "plt.figure(figsize=(8, 3))\n",
        "sns.boxplot(x=\"orig_label\", y=\"input_length_no_stp\", data=detailed_train_df)\n",
        "plt.title(\"Input length (no stopwords or punctuation) for each class label\")\n",
        "plt.xlabel(\"Label\")\n",
        "plt.ylabel(\"Count\")\n",
        "plt.show()\n",
        "\n",
        "plt.figure(figsize=(8, 3))\n",
        "sns.boxplot(x=\"orig_label\", y=\"tokens\", data=detailed_train_df)\n",
        "plt.title(\"Input tokens for each class label\")\n",
        "plt.xlabel(\"Label\")\n",
        "plt.ylabel(\"Count\")\n",
        "plt.show()\n",
        "\n",
        "plt.figure(figsize=(8, 3))\n",
        "sns.boxplot(x=\"orig_label\", y=\"tokens_no_stp\", data=detailed_train_df)\n",
        "plt.title(\"Input tokens (no stopwords or punctuation) for each class label\")\n",
        "plt.xlabel(\"Label\")\n",
        "plt.ylabel(\"Count\")\n",
        "plt.show()\n",
        "\n",
        "print(\"Input tokens statistics:\")\n",
        "mean_tokens_per_label = detailed_train_df.groupby('orig_label')['tokens'].mean().round(1)\n",
        "std_tokens_per_label = detailed_train_df.groupby('orig_label')['tokens'].std().round(1)\n",
        "print(\"Mean number of tokens\")\n",
        "print(mean_tokens_per_label)\n",
        "print(\"Std number of tokens\")\n",
        "print(std_tokens_per_label)\n",
        "\n",
        "print(\"\\nInput tokens (no stopwords or punctuation) statistics:\")\n",
        "mean_tokens_no_stp_per_label = detailed_train_df.groupby('orig_label')['tokens_no_stp'].mean().round(1)\n",
        "std_tokens_no_stp_per_label = detailed_train_df.groupby('orig_label')['tokens_no_stp'].std().round(1)\n",
        "print(\"Mean input length\")\n",
        "print(mean_tokens_no_stp_per_label)\n",
        "print(\"Std input length\")\n",
        "print(std_tokens_no_stp_per_label)\n",
        "\n",
        "print(\"\\nInput length statistics:\")\n",
        "mean_input_length_per_label = detailed_train_df.groupby('orig_label')['input_length'].mean().round(1)\n",
        "std_input_length_per_label = detailed_train_df.groupby('orig_label')['input_length'].std().round(1)\n",
        "print(\"Mean input length\")\n",
        "print(mean_input_length_per_label)\n",
        "print(\"Std input length\")\n",
        "print(std_input_length_per_label)\n",
        "\n",
        "print(\"\\nInput length (no stopwords or punctuation) statistics:\")\n",
        "mean_no_stp_length_per_label = detailed_train_df.groupby('orig_label')['input_length_no_stp'].mean().round(1)\n",
        "std_no_stp_length_per_label = detailed_train_df.groupby('orig_label')['input_length_no_stp'].std().round(1)\n",
        "print(\"Mean input length\")\n",
        "print(mean_no_stp_length_per_label)\n",
        "print(\"Std input length\")\n",
        "print(std_no_stp_length_per_label)"
      ]
    },
    {
      "cell_type": "markdown",
      "metadata": {
        "id": "J9zORLogp0SJ"
      },
      "source": [
        "1.1.a.ii Top and unique words"
      ]
    },
    {
      "cell_type": "code",
      "execution_count": 16,
      "metadata": {
        "colab": {
          "base_uri": "https://localhost:8080/"
        },
        "id": "BdisnBkw0OZv",
        "outputId": "1e933308-3647-4768-af3d-e767d042a31b"
      },
      "outputs": [
        {
          "name": "stderr",
          "output_type": "stream",
          "text": [
            "[nltk_data] Downloading package punkt to /root/nltk_data...\n",
            "[nltk_data]   Package punkt is already up-to-date!\n",
            "[nltk_data] Downloading package stopwords to /root/nltk_data...\n",
            "[nltk_data]   Package stopwords is already up-to-date!\n"
          ]
        },
        {
          "name": "stdout",
          "output_type": "stream",
          "text": [
            "Label: 0\n",
            "           Word  Count\n",
            "81         said   1964\n",
            "6        people   1509\n",
            "291       women   1476\n",
            "61   immigrants   1237\n",
            "304    families   1116\n",
            "851        need   1102\n",
            "282  vulnerable   1100\n",
            "98     disabled   1009\n",
            "303        poor    929\n",
            "87         also    878\n",
            "Label: 1\n",
            "         Word  Count\n",
            "118    people    243\n",
            "154      need    238\n",
            "197      poor    231\n",
            "198  families    212\n",
            "1        said    192\n",
            "75   children    189\n",
            "62   homeless    173\n",
            "36       help    134\n",
            "161     women    134\n",
            "16   disabled    102\n"
          ]
        }
      ],
      "source": [
        "from collections import Counter\n",
        "import nltk\n",
        "import re\n",
        "\n",
        "nltk.download('punkt')\n",
        "nltk.download('stopwords')\n",
        "\n",
        "pcl_word_count_dfs = {}\n",
        "\n",
        "# Define stopwords\n",
        "stopwords = set(nltk.corpus.stopwords.words('english'))\n",
        "\n",
        "# Iterate over unique labels\n",
        "for label in detailed_train_df[\"label\"].unique():\n",
        "    # Filter dataframe for the current label\n",
        "    label_df = detailed_train_df[detailed_train_df[\"label\"] == label]\n",
        "\n",
        "    # Concatenate all paragraphs into a single string for the current label\n",
        "    all_paragraphs = ' '.join(label_df['text'])\n",
        "\n",
        "    # Remove punctuation and tokenize the string into words\n",
        "    words = nltk.word_tokenize(re.sub(r'[^\\w\\s]', '', all_paragraphs))\n",
        "\n",
        "    # Remove stopwords\n",
        "    filtered_words = [word for word in words if word.lower() not in stopwords]\n",
        "\n",
        "    # Count the occurrences of each word\n",
        "    word_counts = Counter(filtered_words)\n",
        "\n",
        "    # Create a new dataframe to store unique words and their counts for the current label\n",
        "    word_count_df = pd.DataFrame(list(word_counts.items()), columns=['Word', 'Count'])\n",
        "\n",
        "    # Sort the dataframe by the 'Count' column in descending order\n",
        "    sorted_word_count_df = word_count_df.sort_values(by='Count', ascending=False)\n",
        "\n",
        "    # Store the sorted dataframe in the dictionary with the label as the key\n",
        "    pcl_word_count_dfs[label] = sorted_word_count_df\n",
        "\n",
        "# Access the dataframe for each label\n",
        "for label, word_count_df in pcl_word_count_dfs.items():\n",
        "    print(f\"Label: {label}\")\n",
        "    print(word_count_df[:10])"
      ]
    },
    {
      "cell_type": "code",
      "execution_count": 17,
      "metadata": {
        "colab": {
          "base_uri": "https://localhost:8080/"
        },
        "id": "zIn5aQvL3eIT",
        "outputId": "f6b4e731-7d58-41f2-dd03-098cc8e5181a"
      },
      "outputs": [
        {
          "name": "stdout",
          "output_type": "stream",
          "text": [
            "Label: 0\n",
            "           Word  Count\n",
            "81         said   1726\n",
            "278       women   1324\n",
            "6        people   1263\n",
            "61   immigrants   1182\n",
            "269  vulnerable   1010\n",
            "753        need    948\n",
            "291    families    920\n",
            "98     disabled    904\n",
            "87         also    790\n",
            "290        poor    755\n",
            "Label: 1\n",
            "         Word  Count\n",
            "102    people    246\n",
            "10       said    238\n",
            "211  families    196\n",
            "210      poor    174\n",
            "300      need    154\n",
            "215     women    152\n",
            "6    homeless    139\n",
            "133  children    122\n",
            "131  disabled    105\n",
            "243      help     94\n",
            "Label: 2\n",
            "         Word  Count\n",
            "181  families     37\n",
            "44     people     35\n",
            "180      poor     32\n",
            "177  children     30\n",
            "243      need     27\n",
            "1        said     25\n",
            "394  homeless     25\n",
            "64      women     24\n",
            "16   disabled     22\n",
            "168      help     19\n",
            "Label: 3\n",
            "           Word  Count\n",
            "200        need    108\n",
            "131    families    104\n",
            "98       people     98\n",
            "120        said     98\n",
            "130        poor     97\n",
            "55     children     78\n",
            "42     homeless     75\n",
            "16         help     68\n",
            "269       women     59\n",
            "301  vulnerable     50\n",
            "Label: 4\n",
            "         Word  Count\n",
            "11     people    110\n",
            "17       need    103\n",
            "105      poor    102\n",
            "200  children     81\n",
            "140  homeless     73\n",
            "106  families     71\n",
            "133      said     69\n",
            "24      women     51\n",
            "156      help     47\n",
            "26      would     44\n"
          ]
        }
      ],
      "source": [
        "category_word_count_dfs = {}\n",
        "\n",
        "# Define stopwords\n",
        "stopwords = set(nltk.corpus.stopwords.words('english'))\n",
        "\n",
        "# Iterate over unique labels\n",
        "for label in detailed_train_df[\"orig_label\"].unique():\n",
        "    # Filter dataframe for the current label\n",
        "    label_df = detailed_train_df[detailed_train_df[\"orig_label\"] == label]\n",
        "\n",
        "    # Concatenate all paragraphs into a single string for the current label\n",
        "    all_paragraphs = ' '.join(label_df[\"text\"])\n",
        "\n",
        "    # Remove punctuation and tokenize the string into words\n",
        "    words = nltk.word_tokenize(re.sub(r'[^\\w\\s]', '', all_paragraphs))\n",
        "\n",
        "    # Remove stopwords\n",
        "    filtered_words = [word for word in words if word.lower() not in stopwords]\n",
        "\n",
        "    # Count the occurrences of each word\n",
        "    word_counts = Counter(filtered_words)\n",
        "\n",
        "    # Create a new dataframe to store unique words and their counts for the current label\n",
        "    word_count_df = pd.DataFrame(list(word_counts.items()), columns=[\"Word\", \"Count\"])\n",
        "\n",
        "    # Sort the dataframe by the 'Count' column in descending order\n",
        "    sorted_word_count_df = word_count_df.sort_values(by='Count', ascending=False)\n",
        "\n",
        "    # Store the sorted dataframe in the dictionary with the label as the key\n",
        "    category_word_count_dfs[label] = sorted_word_count_df\n",
        "\n",
        "# Access the dataframe for each label\n",
        "for label, word_count_df in category_word_count_dfs.items():\n",
        "    print(f\"Label: {label}\")\n",
        "    print(word_count_df[:10])"
      ]
    },
    {
      "cell_type": "code",
      "execution_count": 18,
      "metadata": {
        "colab": {
          "base_uri": "https://localhost:8080/"
        },
        "id": "c86phMsX4dJl",
        "outputId": "82eb9c4d-3247-482e-ee76-ed0ee3997911"
      },
      "outputs": [
        {
          "name": "stdout",
          "output_type": "stream",
          "text": [
            "Words unique to 0: ['one', 'immigrants', 'government', 'year']\n",
            "Words unique to 1: ['us', 'help', 'hopeless', 'life']\n"
          ]
        }
      ],
      "source": [
        "# Initialize lists to store top 10 words for each label\n",
        "top_words_per_pcl_label = {}\n",
        "\n",
        "for label, word_count_df in pcl_word_count_dfs.items():\n",
        "    # Get the top 10 words for the current label\n",
        "    top_words = list(word_count_df.head(20)['Word'])\n",
        "    top_words_per_pcl_label[label] = set(top_words)\n",
        "\n",
        "# Initialize a set to store words that are present in the top 10 for each label\n",
        "common_words = set(top_words_per_pcl_label[next(iter(top_words_per_pcl_label))])\n",
        "\n",
        "# Iterate over top_words_per_label and find the intersection of top 10 words for each label\n",
        "for label, top_words in top_words_per_pcl_label.items():\n",
        "    common_words = common_words.intersection(top_words)\n",
        "\n",
        "# Initialize a dictionary to store words that are unique to each label\n",
        "unique_words_per_label = {label: [] for label in top_words_per_pcl_label.keys()}\n",
        "\n",
        "# Iterate over top_words_per_label and find words unique to each label\n",
        "for label, top_words in top_words_per_pcl_label.items():\n",
        "    unique_words = top_words.difference(common_words)\n",
        "    unique_words_per_label[label] = list(unique_words)\n",
        "\n",
        "# Print the list of words that are present in the top 10 for each label but not in the top 10 of the other labels\n",
        "for label, unique_words in unique_words_per_label.items():\n",
        "    print(f\"Words unique to {label}: {unique_words}\")"
      ]
    },
    {
      "cell_type": "code",
      "execution_count": 19,
      "metadata": {
        "colab": {
          "base_uri": "https://localhost:8080/"
        },
        "id": "62dHeG305FDI",
        "outputId": "948b0aa5-e0cc-4b56-f7d0-44e3f1636b7b"
      },
      "outputs": [
        {
          "name": "stdout",
          "output_type": "stream",
          "text": [
            "Words unique to 0: ['refugee', 'illegal', 'US', 'year']\n",
            "Words unique to 1: ['hopelessness']\n",
            "Words unique to 2: ['work', 'child', 'blood', 'could']\n",
            "Words unique to 3: ['poverty']\n",
            "Words unique to 4: ['us', 'give', 'like', 'hope']\n"
          ]
        }
      ],
      "source": [
        "from itertools import combinations\n",
        "\n",
        "# Initialize lists to store top 25 words for each label\n",
        "top_words_per_category_label = {}\n",
        "\n",
        "# Iterate over dataframes for each label\n",
        "for label, word_count_df in category_word_count_dfs.items():\n",
        "    # Get the top 25 words for the current label\n",
        "    top_words = list(word_count_df.head(25)['Word'])\n",
        "    top_words_per_category_label[label] = set(top_words)\n",
        "\n",
        "# Initialize a set to store words that are present in the top 25 for each label\n",
        "common_words = set()\n",
        "for label1, label2 in combinations(top_words_per_category_label.keys(), 2):\n",
        "    common_words.update(top_words_per_category_label[label1].intersection(top_words_per_category_label[label2]))\n",
        "\n",
        "# Initialize a dictionary to store words that are unique to each label\n",
        "unique_words_per_label = {label: [] for label in top_words_per_category_label.keys()}\n",
        "\n",
        "# Iterate over top_words_per_category_label and find words unique to each label\n",
        "for label, top_words in top_words_per_category_label.items():\n",
        "    unique_words = top_words.difference(common_words)\n",
        "    unique_words_per_label[label] = list(unique_words)\n",
        "\n",
        "# Print the list of words that are present in the top 10 for each label but not in the top 20 of the other labels\n",
        "for label, unique_words in unique_words_per_label.items():\n",
        "    print(f\"Words unique to {label}: {unique_words}\")"
      ]
    },
    {
      "cell_type": "markdown",
      "metadata": {
        "id": "0XOsN2tA8JHh"
      },
      "source": [
        "1.1.a.iii Correlations"
      ]
    },
    {
      "cell_type": "code",
      "execution_count": 20,
      "metadata": {
        "colab": {
          "base_uri": "https://localhost:8080/"
        },
        "id": "izgwN-5I8MqB",
        "outputId": "55e6addb-dfbd-45a9-8c4c-c1b3cc01b677"
      },
      "outputs": [
        {
          "name": "stdout",
          "output_type": "stream",
          "text": [
            "Input tokens correlation:\n",
            "Correlation PCL: 0.05989354813509501\n",
            "Correlation Class: 0.0773290751496345\n",
            "\n",
            "Input tokens without stopwords or punctuation correlation:\n",
            "Correlation PCL: 0.036210432966341\n",
            "Correlation Class: 0.048477675730512974\n",
            "\n",
            "Input length correlation:\n",
            "Correlation PCL: 0.04217396329356937\n",
            "Correlation Class: 0.055940204030604526\n",
            "\n",
            "Input without stopwords or punctuation length correlation:\n",
            "Correlation PCL: 0.020054663877964826\n",
            "Correlation Class: 0.029174234315588174\n",
            "\n",
            "Input punctuation correlation:\n",
            "Correlation PCL: 0.038832333312799866\n",
            "Correlation Class: 0.055750662634088566\n"
          ]
        }
      ],
      "source": [
        "detailed_train_df['orig_label'] = detailed_train_df['orig_label'].astype(int)\n",
        "\n",
        "correlation_pcl_tokens = detailed_train_df['label'].corr(detailed_train_df['tokens'])\n",
        "correlation_class_tokens = detailed_train_df['orig_label'].corr(detailed_train_df['tokens'])\n",
        "\n",
        "correlation_pcl_tokens_no_stp = detailed_train_df['label'].corr(detailed_train_df['tokens_no_stp'])\n",
        "correlation_class_tokens_no_stp = detailed_train_df['orig_label'].corr(detailed_train_df['tokens_no_stp'])\n",
        "\n",
        "correlation_pcl_input_length = detailed_train_df['label'].corr(detailed_train_df['input_length'])\n",
        "correlation_class_input_length = detailed_train_df['orig_label'].corr(detailed_train_df['input_length'])\n",
        "\n",
        "correlation_pcl_input_no_stp_length = detailed_train_df['label'].corr(detailed_train_df['input_length_no_stp'])\n",
        "correlation_class_input_no_stp_length = detailed_train_df['orig_label'].corr(detailed_train_df['input_length_no_stp'])\n",
        "\n",
        "correlation_pcl_punctuation_count = detailed_train_df['label'].corr(detailed_train_df['punctuation_count'])\n",
        "correlation_class_punctuation_count = detailed_train_df['orig_label'].corr(detailed_train_df['punctuation_count'])\n",
        "\n",
        "print(\"Input tokens correlation:\")\n",
        "print(\"Correlation PCL:\", correlation_pcl_tokens)\n",
        "print(\"Correlation Class:\", correlation_class_tokens)\n",
        "\n",
        "print(\"\\nInput tokens without stopwords or punctuation correlation:\")\n",
        "print(\"Correlation PCL:\", correlation_pcl_tokens_no_stp)\n",
        "print(\"Correlation Class:\", correlation_class_tokens_no_stp)\n",
        "\n",
        "print(\"\\nInput length correlation:\")\n",
        "print(\"Correlation PCL:\", correlation_pcl_input_length)\n",
        "print(\"Correlation Class:\", correlation_class_input_length)\n",
        "\n",
        "print(\"\\nInput without stopwords or punctuation length correlation:\")\n",
        "print(\"Correlation PCL:\", correlation_pcl_input_no_stp_length)\n",
        "print(\"Correlation Class:\", correlation_class_input_no_stp_length)\n",
        "\n",
        "print(\"\\nInput punctuation correlation:\")\n",
        "print(\"Correlation PCL:\", correlation_pcl_punctuation_count)\n",
        "print(\"Correlation Class:\", correlation_class_punctuation_count)"
      ]
    },
    {
      "cell_type": "markdown",
      "metadata": {
        "id": "aMlhVePGAKld"
      },
      "source": [
        "1.1.a.iv Label and keyword relationship"
      ]
    },
    {
      "cell_type": "code",
      "execution_count": 21,
      "metadata": {
        "colab": {
          "base_uri": "https://localhost:8080/"
        },
        "id": "1PM89cmuAQpu",
        "outputId": "7c3606ef-614f-4779-ea06-6ade6731305b"
      },
      "outputs": [
        {
          "name": "stdout",
          "output_type": "stream",
          "text": [
            "label  keyword      \n",
            "0      immigrant        97.172479\n",
            "       migrant          96.694215\n",
            "       women            95.140187\n",
            "       vulnerable       92.592593\n",
            "       disabled         92.120623\n",
            "       refugee          91.947566\n",
            "       hopeless         87.661692\n",
            "       in-need          83.733826\n",
            "       poor-families    83.498350\n",
            "       homeless         83.472609\n",
            "1      homeless         16.527391\n",
            "       poor-families    16.501650\n",
            "       in-need          16.266174\n",
            "       hopeless         12.338308\n",
            "       refugee           8.052434\n",
            "       disabled          7.879377\n",
            "       vulnerable        7.407407\n",
            "       women             4.859813\n",
            "       migrant           3.305785\n",
            "       immigrant         2.827521\n",
            "dtype: float64\n"
          ]
        }
      ],
      "source": [
        "pcl_label_counts = detailed_train_df['label'].value_counts()\n",
        "\n",
        "# Group by label and keyword, then count occurrences\n",
        "pcl_grouped_counts = detailed_train_df.groupby(['keyword', 'label']).size()\n",
        "\n",
        "# Calculate the frequency for each keyword and label\n",
        "pcl_frequency_per_keyword = 100 * pcl_grouped_counts / pcl_grouped_counts.groupby(level=0).sum()\n",
        "\n",
        "\n",
        "print(pcl_frequency_per_keyword.swaplevel().sort_index().sort_values(ascending=False))"
      ]
    },
    {
      "cell_type": "markdown",
      "metadata": {
        "id": "rHsUDhuECDJk"
      },
      "source": [
        "1.1.a.v Label and country relationship"
      ]
    },
    {
      "cell_type": "code",
      "execution_count": 22,
      "metadata": {
        "colab": {
          "base_uri": "https://localhost:8080/"
        },
        "id": "IK-9mJHCCHr5",
        "outputId": "e5c7d4da-e718-434b-dcd7-ab22f935ec85"
      },
      "outputs": [
        {
          "name": "stdout",
          "output_type": "stream",
          "text": [
            "label  country\n",
            "0      hk         94.081633\n",
            "       au         93.160813\n",
            "       sg         92.897196\n",
            "       in         92.641509\n",
            "       my         92.124542\n",
            "       us         91.896869\n",
            "       ke         91.651206\n",
            "       bd         91.406250\n",
            "       ca         91.320755\n",
            "       nz         90.926641\n",
            "       ie         90.316574\n",
            "       lk         90.277778\n",
            "       pk         90.275229\n",
            "       tz         90.120482\n",
            "       gb         89.444444\n",
            "       za         89.435337\n",
            "       jm         88.367347\n",
            "       ph         87.706422\n",
            "       ng         86.592179\n",
            "       gh         85.659656\n",
            "1      gh         14.340344\n",
            "       ng         13.407821\n",
            "       ph         12.293578\n",
            "       jm         11.632653\n",
            "       za         10.564663\n",
            "       gb         10.555556\n",
            "       tz          9.879518\n",
            "       pk          9.724771\n",
            "       lk          9.722222\n",
            "       ie          9.683426\n",
            "       nz          9.073359\n",
            "       ca          8.679245\n",
            "       bd          8.593750\n",
            "       ke          8.348794\n",
            "       us          8.103131\n",
            "       my          7.875458\n",
            "       in          7.358491\n",
            "       sg          7.102804\n",
            "       au          6.839187\n",
            "       hk          5.918367\n",
            "dtype: float64\n"
          ]
        }
      ],
      "source": [
        "# Group by label and keyword, then count occurrences\n",
        "pcl_grouped_counts = detailed_train_df.groupby(['country', 'label']).size()\n",
        "pcl_frequency_per_country = 100*pcl_grouped_counts / pcl_grouped_counts.groupby(level=0).sum()\n",
        "\n",
        "print(pcl_frequency_per_country.swaplevel().sort_index().sort_values(ascending=False))"
      ]
    },
    {
      "cell_type": "markdown",
      "metadata": {
        "id": "cJ63ph5p_xjM"
      },
      "source": [
        "1.b. Qualitative Assessment of the dataset"
      ]
    },
    {
      "cell_type": "code",
      "execution_count": 23,
      "metadata": {
        "colab": {
          "base_uri": "https://localhost:8080/"
        },
        "id": "5gaZ_gQR_4Z-",
        "outputId": "6309064e-7fd9-4073-b248-35725f974f24"
      },
      "outputs": [
        {
          "name": "stdout",
          "output_type": "stream",
          "text": [
            "We 're living in times of absolute insanity , as I 'm pretty sure most people are aware . For a while , waking up every day to check the news seemed to carry with it the same feeling of panic and dread that action heroes probably face when they 're trying to decide whether to cut the blue or green wire on a ticking bomb -- except the bomb 's instructions long ago burned in a fire and imminent catastrophe seems the likeliest outcome . It 's hard to stay that on-edge for that long , though , so it 's natural for people to become inured to this constant chaos , to slump into a malaise of hopelessness and pessimism .\n",
            "NUEVA ERA , Ilocos Norte - No family shall be homeless under the watch of the municipal government here , said town Mayor Aldrin Garvida .\n",
            "Arshad said that besides learning many new aspects of sports leadership he learnt how fast-developing nations were using sports as a tool of development and in this effort the disabled and the underprivileged were not left behind at any stage .\n",
            "Fast food employee who fed disabled man becomes internet sensation\n",
            "\"This is the rhetoric of what anthropologist Laura Agust ? n calls the \"\" rescue industry \"\" - a term used to describe people and institutions who conceptualize all sex workers as victims in need of saving . Catherine MacKinnon has argued , for example , that \"\" in prostitution , women have sex with men they would never otherwise have sex with .\"\n"
          ]
        }
      ],
      "source": [
        "print(train_df[train_df[\"orig_label\"] == \"0\"][\"text\"].iloc[0])\n",
        "print(train_df[train_df[\"orig_label\"] == \"1\"][\"text\"].iloc[0])\n",
        "print(train_df[train_df[\"orig_label\"] == \"2\"][\"text\"].iloc[0])\n",
        "print(train_df[train_df[\"orig_label\"] == \"3\"][\"text\"].iloc[0])\n",
        "print(train_df[train_df[\"orig_label\"] == \"4\"][\"text\"].iloc[0])"
      ]
    }
  ],
  "metadata": {
    "colab": {
      "provenance": []
    },
    "kernelspec": {
      "display_name": "Python 3",
      "name": "python3"
    },
    "language_info": {
      "codemirror_mode": {
        "name": "ipython",
        "version": 3
      },
      "file_extension": ".py",
      "mimetype": "text/x-python",
      "name": "python",
      "nbconvert_exporter": "python",
      "pygments_lexer": "ipython3",
      "version": "3.9.4"
    },
    "vscode": {
      "interpreter": {
        "hash": "aee8b7b246df8f9039afb4144a1f6fd8d2ca17a180786b69acc140d282b71a49"
      }
    }
  },
  "nbformat": 4,
  "nbformat_minor": 0
}
